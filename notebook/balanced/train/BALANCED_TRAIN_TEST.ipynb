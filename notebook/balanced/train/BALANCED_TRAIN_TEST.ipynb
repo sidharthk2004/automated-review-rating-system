{
  "nbformat": 4,
  "nbformat_minor": 0,
  "metadata": {
    "colab": {
      "provenance": []
    },
    "kernelspec": {
      "name": "python3",
      "display_name": "Python 3"
    },
    "language_info": {
      "name": "python"
    }
  },
  "cells": [
    {
      "cell_type": "markdown",
      "source": [
        "LOADING THE DATASET"
      ],
      "metadata": {
        "id": "Dcx87dgZT_IZ"
      }
    },
    {
      "cell_type": "code",
      "execution_count": 8,
      "metadata": {
        "colab": {
          "base_uri": "https://localhost:8080/",
          "height": 206
        },
        "id": "-5InQcWRTqBE",
        "outputId": "f13fdf0a-1937-4973-a63f-61f47c2fd500"
      },
      "outputs": [
        {
          "output_type": "execute_result",
          "data": {
            "text/plain": [
              "                                              review  rating\n",
              "0  for me taking seroquel was a nightmare it incr...       1\n",
              "1  i wrote of my experience on day and remember j...       1\n",
              "2  i cannot take this drug without severe side ef...       1\n",
              "3  the system keep saying theres error occurred e...       1\n",
              "4                                    not at all good       1"
            ],
            "text/html": [
              "\n",
              "  <div id=\"df-b81d1898-b0ae-47eb-858c-edba51e47677\" class=\"colab-df-container\">\n",
              "    <div>\n",
              "<style scoped>\n",
              "    .dataframe tbody tr th:only-of-type {\n",
              "        vertical-align: middle;\n",
              "    }\n",
              "\n",
              "    .dataframe tbody tr th {\n",
              "        vertical-align: top;\n",
              "    }\n",
              "\n",
              "    .dataframe thead th {\n",
              "        text-align: right;\n",
              "    }\n",
              "</style>\n",
              "<table border=\"1\" class=\"dataframe\">\n",
              "  <thead>\n",
              "    <tr style=\"text-align: right;\">\n",
              "      <th></th>\n",
              "      <th>review</th>\n",
              "      <th>rating</th>\n",
              "    </tr>\n",
              "  </thead>\n",
              "  <tbody>\n",
              "    <tr>\n",
              "      <th>0</th>\n",
              "      <td>for me taking seroquel was a nightmare it incr...</td>\n",
              "      <td>1</td>\n",
              "    </tr>\n",
              "    <tr>\n",
              "      <th>1</th>\n",
              "      <td>i wrote of my experience on day and remember j...</td>\n",
              "      <td>1</td>\n",
              "    </tr>\n",
              "    <tr>\n",
              "      <th>2</th>\n",
              "      <td>i cannot take this drug without severe side ef...</td>\n",
              "      <td>1</td>\n",
              "    </tr>\n",
              "    <tr>\n",
              "      <th>3</th>\n",
              "      <td>the system keep saying theres error occurred e...</td>\n",
              "      <td>1</td>\n",
              "    </tr>\n",
              "    <tr>\n",
              "      <th>4</th>\n",
              "      <td>not at all good</td>\n",
              "      <td>1</td>\n",
              "    </tr>\n",
              "  </tbody>\n",
              "</table>\n",
              "</div>\n",
              "    <div class=\"colab-df-buttons\">\n",
              "\n",
              "  <div class=\"colab-df-container\">\n",
              "    <button class=\"colab-df-convert\" onclick=\"convertToInteractive('df-b81d1898-b0ae-47eb-858c-edba51e47677')\"\n",
              "            title=\"Convert this dataframe to an interactive table.\"\n",
              "            style=\"display:none;\">\n",
              "\n",
              "  <svg xmlns=\"http://www.w3.org/2000/svg\" height=\"24px\" viewBox=\"0 -960 960 960\">\n",
              "    <path d=\"M120-120v-720h720v720H120Zm60-500h600v-160H180v160Zm220 220h160v-160H400v160Zm0 220h160v-160H400v160ZM180-400h160v-160H180v160Zm440 0h160v-160H620v160ZM180-180h160v-160H180v160Zm440 0h160v-160H620v160Z\"/>\n",
              "  </svg>\n",
              "    </button>\n",
              "\n",
              "  <style>\n",
              "    .colab-df-container {\n",
              "      display:flex;\n",
              "      gap: 12px;\n",
              "    }\n",
              "\n",
              "    .colab-df-convert {\n",
              "      background-color: #E8F0FE;\n",
              "      border: none;\n",
              "      border-radius: 50%;\n",
              "      cursor: pointer;\n",
              "      display: none;\n",
              "      fill: #1967D2;\n",
              "      height: 32px;\n",
              "      padding: 0 0 0 0;\n",
              "      width: 32px;\n",
              "    }\n",
              "\n",
              "    .colab-df-convert:hover {\n",
              "      background-color: #E2EBFA;\n",
              "      box-shadow: 0px 1px 2px rgba(60, 64, 67, 0.3), 0px 1px 3px 1px rgba(60, 64, 67, 0.15);\n",
              "      fill: #174EA6;\n",
              "    }\n",
              "\n",
              "    .colab-df-buttons div {\n",
              "      margin-bottom: 4px;\n",
              "    }\n",
              "\n",
              "    [theme=dark] .colab-df-convert {\n",
              "      background-color: #3B4455;\n",
              "      fill: #D2E3FC;\n",
              "    }\n",
              "\n",
              "    [theme=dark] .colab-df-convert:hover {\n",
              "      background-color: #434B5C;\n",
              "      box-shadow: 0px 1px 3px 1px rgba(0, 0, 0, 0.15);\n",
              "      filter: drop-shadow(0px 1px 2px rgba(0, 0, 0, 0.3));\n",
              "      fill: #FFFFFF;\n",
              "    }\n",
              "  </style>\n",
              "\n",
              "    <script>\n",
              "      const buttonEl =\n",
              "        document.querySelector('#df-b81d1898-b0ae-47eb-858c-edba51e47677 button.colab-df-convert');\n",
              "      buttonEl.style.display =\n",
              "        google.colab.kernel.accessAllowed ? 'block' : 'none';\n",
              "\n",
              "      async function convertToInteractive(key) {\n",
              "        const element = document.querySelector('#df-b81d1898-b0ae-47eb-858c-edba51e47677');\n",
              "        const dataTable =\n",
              "          await google.colab.kernel.invokeFunction('convertToInteractive',\n",
              "                                                    [key], {});\n",
              "        if (!dataTable) return;\n",
              "\n",
              "        const docLinkHtml = 'Like what you see? Visit the ' +\n",
              "          '<a target=\"_blank\" href=https://colab.research.google.com/notebooks/data_table.ipynb>data table notebook</a>'\n",
              "          + ' to learn more about interactive tables.';\n",
              "        element.innerHTML = '';\n",
              "        dataTable['output_type'] = 'display_data';\n",
              "        await google.colab.output.renderOutput(dataTable, element);\n",
              "        const docLink = document.createElement('div');\n",
              "        docLink.innerHTML = docLinkHtml;\n",
              "        element.appendChild(docLink);\n",
              "      }\n",
              "    </script>\n",
              "  </div>\n",
              "\n",
              "\n",
              "    <div id=\"df-b9dcea04-4350-4676-9d19-27f6bdc5d7a2\">\n",
              "      <button class=\"colab-df-quickchart\" onclick=\"quickchart('df-b9dcea04-4350-4676-9d19-27f6bdc5d7a2')\"\n",
              "                title=\"Suggest charts\"\n",
              "                style=\"display:none;\">\n",
              "\n",
              "<svg xmlns=\"http://www.w3.org/2000/svg\" height=\"24px\"viewBox=\"0 0 24 24\"\n",
              "     width=\"24px\">\n",
              "    <g>\n",
              "        <path d=\"M19 3H5c-1.1 0-2 .9-2 2v14c0 1.1.9 2 2 2h14c1.1 0 2-.9 2-2V5c0-1.1-.9-2-2-2zM9 17H7v-7h2v7zm4 0h-2V7h2v10zm4 0h-2v-4h2v4z\"/>\n",
              "    </g>\n",
              "</svg>\n",
              "      </button>\n",
              "\n",
              "<style>\n",
              "  .colab-df-quickchart {\n",
              "      --bg-color: #E8F0FE;\n",
              "      --fill-color: #1967D2;\n",
              "      --hover-bg-color: #E2EBFA;\n",
              "      --hover-fill-color: #174EA6;\n",
              "      --disabled-fill-color: #AAA;\n",
              "      --disabled-bg-color: #DDD;\n",
              "  }\n",
              "\n",
              "  [theme=dark] .colab-df-quickchart {\n",
              "      --bg-color: #3B4455;\n",
              "      --fill-color: #D2E3FC;\n",
              "      --hover-bg-color: #434B5C;\n",
              "      --hover-fill-color: #FFFFFF;\n",
              "      --disabled-bg-color: #3B4455;\n",
              "      --disabled-fill-color: #666;\n",
              "  }\n",
              "\n",
              "  .colab-df-quickchart {\n",
              "    background-color: var(--bg-color);\n",
              "    border: none;\n",
              "    border-radius: 50%;\n",
              "    cursor: pointer;\n",
              "    display: none;\n",
              "    fill: var(--fill-color);\n",
              "    height: 32px;\n",
              "    padding: 0;\n",
              "    width: 32px;\n",
              "  }\n",
              "\n",
              "  .colab-df-quickchart:hover {\n",
              "    background-color: var(--hover-bg-color);\n",
              "    box-shadow: 0 1px 2px rgba(60, 64, 67, 0.3), 0 1px 3px 1px rgba(60, 64, 67, 0.15);\n",
              "    fill: var(--button-hover-fill-color);\n",
              "  }\n",
              "\n",
              "  .colab-df-quickchart-complete:disabled,\n",
              "  .colab-df-quickchart-complete:disabled:hover {\n",
              "    background-color: var(--disabled-bg-color);\n",
              "    fill: var(--disabled-fill-color);\n",
              "    box-shadow: none;\n",
              "  }\n",
              "\n",
              "  .colab-df-spinner {\n",
              "    border: 2px solid var(--fill-color);\n",
              "    border-color: transparent;\n",
              "    border-bottom-color: var(--fill-color);\n",
              "    animation:\n",
              "      spin 1s steps(1) infinite;\n",
              "  }\n",
              "\n",
              "  @keyframes spin {\n",
              "    0% {\n",
              "      border-color: transparent;\n",
              "      border-bottom-color: var(--fill-color);\n",
              "      border-left-color: var(--fill-color);\n",
              "    }\n",
              "    20% {\n",
              "      border-color: transparent;\n",
              "      border-left-color: var(--fill-color);\n",
              "      border-top-color: var(--fill-color);\n",
              "    }\n",
              "    30% {\n",
              "      border-color: transparent;\n",
              "      border-left-color: var(--fill-color);\n",
              "      border-top-color: var(--fill-color);\n",
              "      border-right-color: var(--fill-color);\n",
              "    }\n",
              "    40% {\n",
              "      border-color: transparent;\n",
              "      border-right-color: var(--fill-color);\n",
              "      border-top-color: var(--fill-color);\n",
              "    }\n",
              "    60% {\n",
              "      border-color: transparent;\n",
              "      border-right-color: var(--fill-color);\n",
              "    }\n",
              "    80% {\n",
              "      border-color: transparent;\n",
              "      border-right-color: var(--fill-color);\n",
              "      border-bottom-color: var(--fill-color);\n",
              "    }\n",
              "    90% {\n",
              "      border-color: transparent;\n",
              "      border-bottom-color: var(--fill-color);\n",
              "    }\n",
              "  }\n",
              "</style>\n",
              "\n",
              "      <script>\n",
              "        async function quickchart(key) {\n",
              "          const quickchartButtonEl =\n",
              "            document.querySelector('#' + key + ' button');\n",
              "          quickchartButtonEl.disabled = true;  // To prevent multiple clicks.\n",
              "          quickchartButtonEl.classList.add('colab-df-spinner');\n",
              "          try {\n",
              "            const charts = await google.colab.kernel.invokeFunction(\n",
              "                'suggestCharts', [key], {});\n",
              "          } catch (error) {\n",
              "            console.error('Error during call to suggestCharts:', error);\n",
              "          }\n",
              "          quickchartButtonEl.classList.remove('colab-df-spinner');\n",
              "          quickchartButtonEl.classList.add('colab-df-quickchart-complete');\n",
              "        }\n",
              "        (() => {\n",
              "          let quickchartButtonEl =\n",
              "            document.querySelector('#df-b9dcea04-4350-4676-9d19-27f6bdc5d7a2 button');\n",
              "          quickchartButtonEl.style.display =\n",
              "            google.colab.kernel.accessAllowed ? 'block' : 'none';\n",
              "        })();\n",
              "      </script>\n",
              "    </div>\n",
              "\n",
              "    </div>\n",
              "  </div>\n"
            ],
            "application/vnd.google.colaboratory.intrinsic+json": {
              "type": "dataframe",
              "variable_name": "df",
              "summary": "{\n  \"name\": \"df\",\n  \"rows\": 15000,\n  \"fields\": [\n    {\n      \"column\": \"review\",\n      \"properties\": {\n        \"dtype\": \"string\",\n        \"num_unique_values\": 14969,\n        \"samples\": [\n          \"i upgraded to the paid version because i wanted more recent results instead some time in ever since then it is very slow halting stops in the middle of an answer and frequently provides incorrect and even ludicrous answers im canceling and going back to the free version which was fantastic id be happy to pay if it worked right very disappointing and annoying\",\n          \"i couldnt get past birthdate scroll bar it just kept collapsing and starting over when i tried to put in birth year\",\n          \"im going into my rd week with this med and it has made me feel more depressed anxiouswaking up at very early morning hours and not being able to go back to sleep with racing depressing thoughts while praying that jesus will help me feel better but im wondering if i should even continue this med since it is making me feel much worse than when i started are you supposed to feel worse before you feel better\"\n        ],\n        \"semantic_type\": \"\",\n        \"description\": \"\"\n      }\n    },\n    {\n      \"column\": \"rating\",\n      \"properties\": {\n        \"dtype\": \"number\",\n        \"std\": 1,\n        \"min\": 1,\n        \"max\": 5,\n        \"num_unique_values\": 5,\n        \"samples\": [\n          2,\n          5,\n          3\n        ],\n        \"semantic_type\": \"\",\n        \"description\": \"\"\n      }\n    }\n  ]\n}"
            }
          },
          "metadata": {},
          "execution_count": 8
        }
      ],
      "source": [
        "import pandas as pd\n",
        "df=pd.read_csv('/content/allbalanced_dataset.csv')\n",
        "df.head()"
      ]
    },
    {
      "cell_type": "code",
      "source": [
        "df.columns"
      ],
      "metadata": {
        "colab": {
          "base_uri": "https://localhost:8080/"
        },
        "id": "7PGj_APGUaj1",
        "outputId": "a921cc90-e435-4d5a-ac6f-858ae8b10690"
      },
      "execution_count": 5,
      "outputs": [
        {
          "output_type": "execute_result",
          "data": {
            "text/plain": [
              "Index(['review', 'rating'], dtype='object')"
            ]
          },
          "metadata": {},
          "execution_count": 5
        }
      ]
    },
    {
      "cell_type": "code",
      "source": [
        "df['rating']=df['review'].astype(str).str.lower()"
      ],
      "metadata": {
        "id": "kXaYsMJgUijI"
      },
      "execution_count": 6,
      "outputs": []
    },
    {
      "cell_type": "code",
      "source": [
        "df.shape"
      ],
      "metadata": {
        "colab": {
          "base_uri": "https://localhost:8080/"
        },
        "id": "tcxpsasmU9Nu",
        "outputId": "db57bdc4-4b7f-457d-f279-cfb19faea177"
      },
      "execution_count": 9,
      "outputs": [
        {
          "output_type": "execute_result",
          "data": {
            "text/plain": [
              "(15000, 2)"
            ]
          },
          "metadata": {},
          "execution_count": 9
        }
      ]
    },
    {
      "cell_type": "code",
      "source": [
        "df['rating'].value_counts()"
      ],
      "metadata": {
        "colab": {
          "base_uri": "https://localhost:8080/",
          "height": 272
        },
        "id": "d9v2VygkVJYq",
        "outputId": "1ee4f1a7-e574-48e2-8984-094c6d9f1175"
      },
      "execution_count": 10,
      "outputs": [
        {
          "output_type": "execute_result",
          "data": {
            "text/plain": [
              "rating\n",
              "1    3000\n",
              "2    3000\n",
              "3    3000\n",
              "4    3000\n",
              "5    3000\n",
              "Name: count, dtype: int64"
            ],
            "text/html": [
              "<div>\n",
              "<style scoped>\n",
              "    .dataframe tbody tr th:only-of-type {\n",
              "        vertical-align: middle;\n",
              "    }\n",
              "\n",
              "    .dataframe tbody tr th {\n",
              "        vertical-align: top;\n",
              "    }\n",
              "\n",
              "    .dataframe thead th {\n",
              "        text-align: right;\n",
              "    }\n",
              "</style>\n",
              "<table border=\"1\" class=\"dataframe\">\n",
              "  <thead>\n",
              "    <tr style=\"text-align: right;\">\n",
              "      <th></th>\n",
              "      <th>count</th>\n",
              "    </tr>\n",
              "    <tr>\n",
              "      <th>rating</th>\n",
              "      <th></th>\n",
              "    </tr>\n",
              "  </thead>\n",
              "  <tbody>\n",
              "    <tr>\n",
              "      <th>1</th>\n",
              "      <td>3000</td>\n",
              "    </tr>\n",
              "    <tr>\n",
              "      <th>2</th>\n",
              "      <td>3000</td>\n",
              "    </tr>\n",
              "    <tr>\n",
              "      <th>3</th>\n",
              "      <td>3000</td>\n",
              "    </tr>\n",
              "    <tr>\n",
              "      <th>4</th>\n",
              "      <td>3000</td>\n",
              "    </tr>\n",
              "    <tr>\n",
              "      <th>5</th>\n",
              "      <td>3000</td>\n",
              "    </tr>\n",
              "  </tbody>\n",
              "</table>\n",
              "</div><br><label><b>dtype:</b> int64</label>"
            ]
          },
          "metadata": {},
          "execution_count": 10
        }
      ]
    },
    {
      "cell_type": "markdown",
      "source": [
        "SAMPLE REVIEWS"
      ],
      "metadata": {
        "id": "2KFqYYDAVUI5"
      }
    },
    {
      "cell_type": "code",
      "source": [
        "n = 8\n",
        "for rating in range(1, 6):\n",
        "    filtered_reviews = df[df['rating'] == rating]['review'].dropna()\n",
        "    sample_reviews = filtered_reviews.sample(n=min(n, len(filtered_reviews)), random_state=rating)\n",
        "\n",
        "    # Print results\n",
        "    print(f\"\\nShowing {min(n, len(filtered_reviews))} sample review(s) for Rating {rating}:\\n\")\n",
        "    for i, review in enumerate(sample_reviews, 1):\n",
        "        print(f\"{i}. {review.strip()}\\n\")"
      ],
      "metadata": {
        "colab": {
          "base_uri": "https://localhost:8080/"
        },
        "id": "cuXBZAJNVP5m",
        "outputId": "7929e3e9-4097-4c4f-ba34-caa768189926"
      },
      "execution_count": 11,
      "outputs": [
        {
          "output_type": "stream",
          "name": "stdout",
          "text": [
            "\n",
            "Showing 8 sample review(s) for Rating 1:\n",
            "\n",
            "1. diamond lost luster time ago hotel avaliabality busy holiday weekend pm hotels booked beware clue shine gone hope good service updated accomadiations th floor room failure respects furnishings old bed hard floor curtains not open way window bathroom missing pane glass tub just like standing squashy mud carpet worn ceiling tiles mis shaped installed worst extremely rude desk manager not apologize try apease room cleaned checked hotel treated like just number hotel wrong worst breakfast iv seen past breakfast following horrible experience higher management\n",
            "\n",
            "2. this is good app\n",
            "\n",
            "3. this people help the bad people to cheating on the answers\n",
            "\n",
            "4. i have been taking this medicine for about a year i started gaining weight really fast i started feeling really bad all of the time my dr ordered blood tests and much to my suprise my triglycerides which are supposed to be are now at my dr called me the same day and said to stop taking this medicine immediatly now im having heart problems and also dizzy spells where i loose all sense of cordination i can no longer drive or go out by myself this medicine has really done a number on me i wouldnt recommend anyone taking it it has turned my life upside downread more read less\n",
            "\n",
            "5. instead of a lowdose ativan previously prescribed by my oncologist something which i had zero sideeffects from my gp decided i shouldnt be taking it any more after a week of taking mg of paroxetin at bedtime i told him i was having mild sideeffects which were similar to the severe reaction i had to prozac so he recommended the extended release of paroxetin mg instead overall ive been taking this product less than a month now and ive determined it to be the reason i am constantly in a foggy state of mind i feel like i could stay in bed all day my head feels pressurized and my eyes face are puffy its sunday so doc and pharmacy arent open but im going to take my chances hope not to have withdrawl symptoms too im taking myself off of this starting todayread more read less\n",
            "\n",
            "6. awful it now gets even the most basic questions wrong\n",
            "\n",
            "7. side effects not good has made me gain weight plus makes me groggy and irritable the next day when i wake up the docter prescribed it as a sleep med but i would still wake up in the night and raid the fridge it has made me put on pounds in months i no longer take it\n",
            "\n",
            "8. after taking this medication i became shaky and iritable on the th day i actually became violent something i didnt even think i was capable of i immediatly stopped the medicine and called my dr after days i started to feel better i would much rather suffer through posttraumatic stress syndrome than be violent and uncontrollable i have been on other antidepressant medications before and this is the only one that sent me into a state of fury\n",
            "\n",
            "\n",
            "Showing 8 sample review(s) for Rating 2:\n",
            "\n",
            "1. the worst customer supporttheir product appears to provide so much but its so convoluted that its nearly impossible for new customers to set up without assistance from the firm however whenever we met with someone who managed our account we expressed our worries about not knowing how to perform certain things what would be the reactions ill email you zendesk support articles okay ive been googling it and plainly it hasnt helped which is why im requesting assistance from a zendesk representative we were advised that if we stated that we needed additional assistance we would have to pay a large sum of money to have a specialized person assist us were already paying so much to utilize your platform which has so many technical issues at the very least provide some sort of helpneedless to say we left after years of struggling to use their platform thanks for never helping\n",
            "\n",
            "2. its such a good app for students\n",
            "\n",
            "3. looks fool wife stayed bavaro princess hotel dec th look lobby filled sense opulent granduer open air concept marble floors various levels numerous cosy couches chairs courtyards filled ponds grown coconut palm trees various plants numerous mention checking drink bars caught shuttle fourplex near beach hungry walked short distance complex beach served various finger foods am am things notice dominicans run hour clock pizza french fries chicken fingers salads fruit wine beer good farethe fun started went room figured hot shower bed no hot water apparently pipe burst half resort problem not fixed days fixed no acknowlegement staff hotel happened used using face cloth unless speak spanish maid look like speaking russian ask nt key lock wall safe reason wife left silver bracelet makeup bag room let just say maid did little cleaning apart setbacks actually goodtime till night wife developed stomach infection ate resort know reason doctor punta cana hospital gave morning day left luckily covered medipassport employment reimbursed services cost thing not cash traveller checks hotel change pesos bank town short walk away\n",
            "\n",
            "4. i would like to know the average time of withdrawl from cymbalta\n",
            "\n",
            "5. in laptop chatgpt is not opening oops error occurred is showing solve this problem\n",
            "\n",
            "6. i was on fluoxetine for anxiety for years switched to bupropion cause the fluoxetine was decreasing my sex drive my anxiety has returned to basically where it was before i started taking the fluoxetine was prescribed buspirone in addition to try and help more with anxiety but really hasnt helped much sex drive has only gotten slightly better\n",
            "\n",
            "7. weight gain loss f interest in sex\n",
            "\n",
            "8. nt waste money friends getting married punta cana majestic colonial booked trip late no rooms available majaestic travel agent said grand paradise just nice door lies just nice husband requested room king size bed placed room queens no remote television phone sticky nasty smell unidentifiable food horrendous no spoke english requested room change wait nights moved charged dollars remote control tv reservations italian restruant denied service husband flip flops long pants button shirt allowed man jean shorts tshirt sandals dinner annoyed reasoned italian food sucked live make best italian food home cares said friends majestic colonial went nt soon walk know grand paradise lacking felt like step children rest week wants punta cana stay majestic booked wait room coss cares nice vacation things instead medicocre majestic americanized americans wanting converse guests english no offense bavaro husband representing states hope helps trying decide stay\n",
            "\n",
            "\n",
            "Showing 8 sample review(s) for Rating 3:\n",
            "\n",
            "1. has been a problem leaving me with a heavy drugged feeling for over a month on the other side it is helping me to sleep at night and that was the main goal\n",
            "\n",
            "2. have been on this med for about eight months and it has done some good with depression but nothing for anxietyam also taking seroquel xr in am and pm for the anxiety but so far not working very well at allgoing to ask doc for effexor as it seems to work better for anxiety and cronic paini think i need a mood stabilizer as well my side effoects are few and bearable so far\n",
            "\n",
            "3. it should be more mature ai\n",
            "\n",
            "4. this drug was very addictive to me and i came off it cold turkey after being on it for some time which i know is not recommended i thought i would die before it was over benzodiazepines are horrible use them only in severe cases and not more than a week\n",
            "\n",
            "5. while we appreciate the overall look and feel of the tool i think that there should be a lot more options in order to stick to it as sole ticketing system\n",
            "\n",
            "6. i gained weight right from the start it has calmed me down to a nice smooth pace almost to mellow but it has also done wonders to our love life if you are premature male this is the answer you have been looking for\n",
            "\n",
            "7. was prescribed this med to treat insomnia worked great for that but unfortunately gained lbs in mos extremely unhappy with that se was not aware that the med could cause such a drastic change in that short of a time period had to stop taking the med and switch to another alternative\n",
            "\n",
            "8. i was prescribed this medicine for pain from shingls it worked the first few days then i could not get up from the sofa but managed to do so then i collapsed on the living room floor and had to be picked up by an emt and ambulanced to the hospital i stayed there for five days because of this drug\n",
            "\n",
            "\n",
            "Showing 8 sample review(s) for Rating 4:\n",
            "\n",
            "1. good replay thank so much\n",
            "\n",
            "2. it seems to help curve some of the ups downs more even for longer periods of time\n",
            "\n",
            "3. does the job but winder squeaks\n",
            "\n",
            "4. i had gotten to the point of not leaving my house unless i absolutely had to because when i did my heart would go haywire atrial tachycardias this and zoloft has made my life livable again\n",
            "\n",
            "5. neorupathy in my feet is much better\n",
            "\n",
            "6. ive been on lexapro for more than a year now and i have to admit that it helps me with my depression symptoms for some people like me who was born with chemical disbalance and suffered from depression and anxiety since childhood it is a really powerfull drug i see everything differently now than i used when i was depressed butthere are some side effects that i connect with the drug i always feel very tired and i can sleep up to hours a day which is not really helping my relationship with my boyfriend and my lifestyle i still have some anxiety epizodes and experience a shortness of breath occasionaly i take atarax for my panic attacks but considering what this med has done for me these things are pretty minorread more read less\n",
            "\n",
            "7. i have been on this drug for week now for depression and panic attacks i am finally starting to feel a little normal i am less stressed and i dont worry as much i have lost my appetite which is worrying me but i could lose a couple pounds i have a little blurred vision problems focusing but i think this will work great i am taking mg\n",
            "\n",
            "8. absolutely good were using it ever day and theres almost nothing to complain aboutadditionally we receive a very low amount of tickets regarding issues with freshdesk from our customers\n",
            "\n",
            "\n",
            "Showing 8 sample review(s) for Rating 5:\n",
            "\n",
            "1. i have been on lexapro for years and have not had any problems with this drug it has helped me so much but now i believe it is time for a change of drug\n",
            "\n",
            "2. i was wired out on too much seratoninantidepression meds dr prescribed this to help me get some sleep mg wiped me out had to lower dose to mg just to function the next day worked very well for me\n",
            "\n",
            "3. knowledge is power this is knowledge on crack in pure form that can be snorted through the eyes\n",
            "\n",
            "4. it is very very fast data telling object\n",
            "\n",
            "5. the app is very helpfulwe can use it for many works\n",
            "\n",
            "6. this very use full to learn every thing so please everyone have it\n",
            "\n",
            "7. this app is very useful\n",
            "\n",
            "8. just for me\n",
            "\n"
          ]
        }
      ]
    },
    {
      "cell_type": "markdown",
      "source": [
        "REMOVING STOPWORDS"
      ],
      "metadata": {
        "id": "QTolZ-TQVlRH"
      }
    },
    {
      "cell_type": "code",
      "source": [
        "%pip install nltk\n",
        "\n",
        "\n",
        "import nltk\n",
        "from nltk.corpus import stopwords\n",
        "from nltk.tokenize import word_tokenize\n",
        "nltk.download('stopwords')\n",
        "nltk.download('punkt')\n",
        "# Download the 'punkt_tab' resource\n",
        "nltk.download('punkt_tab')\n",
        "\n",
        "\n",
        "stop_words = set(stopwords.words('english'))\n",
        "\n",
        "def remove_stopwords(text):\n",
        "    words = word_tokenize(str(text))  # tokenize text\n",
        "    filtered = [word for word in words if word.lower() not in stop_words]\n",
        "    return ' '.join(filtered)\n",
        "\n",
        "\n",
        "df['review']=df['review'].apply(remove_stopwords)"
      ],
      "metadata": {
        "colab": {
          "base_uri": "https://localhost:8080/"
        },
        "id": "uCVooqwFVjc_",
        "outputId": "32a3af10-78ee-4208-f097-8920a03416e2"
      },
      "execution_count": 13,
      "outputs": [
        {
          "output_type": "stream",
          "name": "stdout",
          "text": [
            "Requirement already satisfied: nltk in /usr/local/lib/python3.11/dist-packages (3.9.1)\n",
            "Requirement already satisfied: click in /usr/local/lib/python3.11/dist-packages (from nltk) (8.2.1)\n",
            "Requirement already satisfied: joblib in /usr/local/lib/python3.11/dist-packages (from nltk) (1.5.1)\n",
            "Requirement already satisfied: regex>=2021.8.3 in /usr/local/lib/python3.11/dist-packages (from nltk) (2024.11.6)\n",
            "Requirement already satisfied: tqdm in /usr/local/lib/python3.11/dist-packages (from nltk) (4.67.1)\n"
          ]
        },
        {
          "output_type": "stream",
          "name": "stderr",
          "text": [
            "[nltk_data] Downloading package stopwords to /root/nltk_data...\n",
            "[nltk_data]   Package stopwords is already up-to-date!\n",
            "[nltk_data] Downloading package punkt to /root/nltk_data...\n",
            "[nltk_data]   Package punkt is already up-to-date!\n",
            "[nltk_data] Downloading package punkt_tab to /root/nltk_data...\n",
            "[nltk_data]   Unzipping tokenizers/punkt_tab.zip.\n"
          ]
        }
      ]
    },
    {
      "cell_type": "code",
      "source": [
        "stop_words = set(stopwords.words('english'))\n",
        "\n",
        "# Display total stopwords\n",
        "print(\"Total stopwords:\", len(stop_words))\n",
        "print(sorted(stop_words))"
      ],
      "metadata": {
        "colab": {
          "base_uri": "https://localhost:8080/"
        },
        "id": "85SslfyiWLzZ",
        "outputId": "42300436-9b47-4994-d440-77a15551db51"
      },
      "execution_count": 14,
      "outputs": [
        {
          "output_type": "stream",
          "name": "stdout",
          "text": [
            "Total stopwords: 198\n",
            "['a', 'about', 'above', 'after', 'again', 'against', 'ain', 'all', 'am', 'an', 'and', 'any', 'are', 'aren', \"aren't\", 'as', 'at', 'be', 'because', 'been', 'before', 'being', 'below', 'between', 'both', 'but', 'by', 'can', 'couldn', \"couldn't\", 'd', 'did', 'didn', \"didn't\", 'do', 'does', 'doesn', \"doesn't\", 'doing', 'don', \"don't\", 'down', 'during', 'each', 'few', 'for', 'from', 'further', 'had', 'hadn', \"hadn't\", 'has', 'hasn', \"hasn't\", 'have', 'haven', \"haven't\", 'having', 'he', \"he'd\", \"he'll\", \"he's\", 'her', 'here', 'hers', 'herself', 'him', 'himself', 'his', 'how', 'i', \"i'd\", \"i'll\", \"i'm\", \"i've\", 'if', 'in', 'into', 'is', 'isn', \"isn't\", 'it', \"it'd\", \"it'll\", \"it's\", 'its', 'itself', 'just', 'll', 'm', 'ma', 'me', 'mightn', \"mightn't\", 'more', 'most', 'mustn', \"mustn't\", 'my', 'myself', 'needn', \"needn't\", 'no', 'nor', 'not', 'now', 'o', 'of', 'off', 'on', 'once', 'only', 'or', 'other', 'our', 'ours', 'ourselves', 'out', 'over', 'own', 're', 's', 'same', 'shan', \"shan't\", 'she', \"she'd\", \"she'll\", \"she's\", 'should', \"should've\", 'shouldn', \"shouldn't\", 'so', 'some', 'such', 't', 'than', 'that', \"that'll\", 'the', 'their', 'theirs', 'them', 'themselves', 'then', 'there', 'these', 'they', \"they'd\", \"they'll\", \"they're\", \"they've\", 'this', 'those', 'through', 'to', 'too', 'under', 'until', 'up', 've', 'very', 'was', 'wasn', \"wasn't\", 'we', \"we'd\", \"we'll\", \"we're\", \"we've\", 'were', 'weren', \"weren't\", 'what', 'when', 'where', 'which', 'while', 'who', 'whom', 'why', 'will', 'with', 'won', \"won't\", 'wouldn', \"wouldn't\", 'y', 'you', \"you'd\", \"you'll\", \"you're\", \"you've\", 'your', 'yours', 'yourself', 'yourselves']\n"
          ]
        }
      ]
    },
    {
      "cell_type": "markdown",
      "source": [
        "SAMPLE REVIEWS"
      ],
      "metadata": {
        "id": "ZDmhtuCBWXHy"
      }
    },
    {
      "cell_type": "code",
      "source": [
        "n = 5\n",
        "for rating in range(1, 6):\n",
        "    # Filter reviews of the current rating\n",
        "    filtered_reviews = df[df['rating'] == rating]['review'].dropna()\n",
        "\n",
        "    # Sample 'n' reviews or all if fewer\n",
        "    sample_reviews = filtered_reviews.sample(n=min(n, len(filtered_reviews)), random_state=rating)\n",
        "\n",
        "    # Print the results\n",
        "    print(f\"\\nShowing {min(n, len(filtered_reviews))} sample review(s) for Rating {rating}:\\n\")\n",
        "    for i, review in enumerate(sample_reviews, 1):\n",
        "        print(f\"{i}. {review.strip()}\\n\")"
      ],
      "metadata": {
        "colab": {
          "base_uri": "https://localhost:8080/"
        },
        "id": "Gva4V1UBWUB5",
        "outputId": "6415f9cf-6877-4204-efea-966eace3aa4a"
      },
      "execution_count": 16,
      "outputs": [
        {
          "output_type": "stream",
          "name": "stdout",
          "text": [
            "\n",
            "Showing 5 sample review(s) for Rating 1:\n",
            "\n",
            "1. diamond lost luster time ago hotel avaliabality busy holiday weekend pm hotels booked beware clue shine gone hope good service updated accomadiations th floor room failure respects furnishings old bed hard floor curtains open way window bathroom missing pane glass tub like standing squashy mud carpet worn ceiling tiles mis shaped installed worst extremely rude desk manager apologize try apease room cleaned checked hotel treated like number hotel wrong worst breakfast iv seen past breakfast following horrible experience higher management\n",
            "\n",
            "2. good app\n",
            "\n",
            "3. people help bad people cheating answers\n",
            "\n",
            "4. taking medicine year started gaining weight really fast started feeling really bad time dr ordered blood tests much suprise triglycerides supposed dr called day said stop taking medicine immediatly im heart problems also dizzy spells loose sense cordination longer drive go medicine really done number wouldnt recommend anyone taking turned life upside downread read less\n",
            "\n",
            "5. instead lowdose ativan previously prescribed oncologist something zero sideeffects gp decided shouldnt taking week taking mg paroxetin bedtime told mild sideeffects similar severe reaction prozac recommended extended release paroxetin mg instead overall ive taking product less month ive determined reason constantly foggy state mind feel like could stay bed day head feels pressurized eyes face puffy sunday doc pharmacy arent open im going take chances hope withdrawl symptoms im taking starting todayread read less\n",
            "\n",
            "\n",
            "Showing 5 sample review(s) for Rating 2:\n",
            "\n",
            "1. worst customer supporttheir product appears provide much convoluted nearly impossible new customers set without assistance firm however whenever met someone managed account expressed worries knowing perform certain things would reactions ill email zendesk support articles okay ive googling plainly hasnt helped im requesting assistance zendesk representative advised stated needed additional assistance would pay large sum money specialized person assist us already paying much utilize platform many technical issues least provide sort helpneedless say left years struggling use platform thanks never helping\n",
            "\n",
            "2. good app students\n",
            "\n",
            "3. looks fool wife stayed bavaro princess hotel dec th look lobby filled sense opulent granduer open air concept marble floors various levels numerous cosy couches chairs courtyards filled ponds grown coconut palm trees various plants numerous mention checking drink bars caught shuttle fourplex near beach hungry walked short distance complex beach served various finger foods things notice dominicans run hour clock pizza french fries chicken fingers salads fruit wine beer good farethe fun started went room figured hot shower bed hot water apparently pipe burst half resort problem fixed days fixed acknowlegement staff hotel happened used using face cloth unless speak spanish maid look like speaking russian ask nt key lock wall safe reason wife left silver bracelet makeup bag room let say maid little cleaning apart setbacks actually goodtime till night wife developed stomach infection ate resort know reason doctor punta cana hospital gave morning day left luckily covered medipassport employment reimbursed services cost thing cash traveller checks hotel change pesos bank town short walk away\n",
            "\n",
            "4. would like know average time withdrawl cymbalta\n",
            "\n",
            "5. laptop chatgpt opening oops error occurred showing solve problem\n",
            "\n",
            "\n",
            "Showing 5 sample review(s) for Rating 3:\n",
            "\n",
            "1. problem leaving heavy drugged feeling month side helping sleep night main goal\n",
            "\n",
            "2. med eight months done good depression nothing anxietyam also taking seroquel xr pm anxiety far working well allgoing ask doc effexor seems work better anxiety cronic paini think need mood stabilizer well side effoects bearable far\n",
            "\n",
            "3. mature ai\n",
            "\n",
            "4. drug addictive came cold turkey time know recommended thought would die benzodiazepines horrible use severe cases week\n",
            "\n",
            "5. appreciate overall look feel tool think lot options order stick sole ticketing system\n",
            "\n",
            "\n",
            "Showing 5 sample review(s) for Rating 4:\n",
            "\n",
            "1. good replay thank much\n",
            "\n",
            "2. seems help curve ups downs even longer periods time\n",
            "\n",
            "3. job winder squeaks\n",
            "\n",
            "4. gotten point leaving house unless absolutely heart would go haywire atrial tachycardias zoloft made life livable\n",
            "\n",
            "5. neorupathy feet much better\n",
            "\n",
            "\n",
            "Showing 5 sample review(s) for Rating 5:\n",
            "\n",
            "1. lexapro years problems drug helped much believe time change drug\n",
            "\n",
            "2. wired much seratoninantidepression meds dr prescribed help get sleep mg wiped lower dose mg function next day worked well\n",
            "\n",
            "3. knowledge power knowledge crack pure form snorted eyes\n",
            "\n",
            "4. fast data telling object\n",
            "\n",
            "5. app helpfulwe use many works\n",
            "\n"
          ]
        }
      ]
    },
    {
      "cell_type": "markdown",
      "source": [
        "LEMMATIZATION"
      ],
      "metadata": {
        "id": "oeJvwrCaWn0l"
      }
    },
    {
      "cell_type": "code",
      "source": [
        "nltk.download('wordnet')\n",
        "nltk.download('omw-1.4')\n",
        "from nltk.stem import WordNetLemmatizer\n",
        "from nltk.tokenize import word_tokenize\n",
        "lemmatizer = WordNetLemmatizer()\n",
        "def lemmatize_text(text):\n",
        "    words = word_tokenize(text)\n",
        "    lemmatized = [lemmatizer.lemmatize(word) for word in words]\n",
        "    return ' '.join(lemmatized)\n",
        "df['review']=df['review'].apply(lemmatize_text)"
      ],
      "metadata": {
        "colab": {
          "base_uri": "https://localhost:8080/"
        },
        "id": "g476O-2RWrbx",
        "outputId": "77e1cb8b-3eb3-4fcc-bf8b-aa1c10bdd446"
      },
      "execution_count": 17,
      "outputs": [
        {
          "output_type": "stream",
          "name": "stderr",
          "text": [
            "[nltk_data] Downloading package wordnet to /root/nltk_data...\n",
            "[nltk_data] Downloading package omw-1.4 to /root/nltk_data...\n"
          ]
        }
      ]
    },
    {
      "cell_type": "markdown",
      "source": [
        "SAMPLE REVIEWS"
      ],
      "metadata": {
        "id": "4zvzj8QHW0tA"
      }
    },
    {
      "cell_type": "code",
      "source": [
        "n = 5\n",
        "for rating in range(1, 6):\n",
        "    # Filter reviews of the current rating\n",
        "    filtered_reviews = df[df['rating'] == rating]['review'].dropna()\n",
        "\n",
        "    # Sample 'n' reviews or all if fewer\n",
        "    sample_reviews = filtered_reviews.sample(n=min(n, len(filtered_reviews)), random_state=rating)\n",
        "\n",
        "    # Print the results\n",
        "    print(f\"\\nShowing {min(n, len(filtered_reviews))} sample review(s) for Rating {rating}:\\n\")\n",
        "    for i, review in enumerate(sample_reviews, 1):\n",
        "        print(f\"{i}. {review.strip()}\\n\")"
      ],
      "metadata": {
        "colab": {
          "base_uri": "https://localhost:8080/"
        },
        "id": "rq5Wsb19W2cA",
        "outputId": "cd570db0-cd0c-439e-d57e-526de26b0ea0"
      },
      "execution_count": 18,
      "outputs": [
        {
          "output_type": "stream",
          "name": "stdout",
          "text": [
            "\n",
            "Showing 5 sample review(s) for Rating 1:\n",
            "\n",
            "1. diamond lost luster time ago hotel avaliabality busy holiday weekend pm hotel booked beware clue shine gone hope good service updated accomadiations th floor room failure respect furnishing old bed hard floor curtain open way window bathroom missing pane glass tub like standing squashy mud carpet worn ceiling tile mi shaped installed worst extremely rude desk manager apologize try apease room cleaned checked hotel treated like number hotel wrong worst breakfast iv seen past breakfast following horrible experience higher management\n",
            "\n",
            "2. good app\n",
            "\n",
            "3. people help bad people cheating answer\n",
            "\n",
            "4. taking medicine year started gaining weight really fast started feeling really bad time dr ordered blood test much suprise triglyceride supposed dr called day said stop taking medicine immediatly im heart problem also dizzy spell loose sense cordination longer drive go medicine really done number wouldnt recommend anyone taking turned life upside downread read less\n",
            "\n",
            "5. instead lowdose ativan previously prescribed oncologist something zero sideeffects gp decided shouldnt taking week taking mg paroxetin bedtime told mild sideeffects similar severe reaction prozac recommended extended release paroxetin mg instead overall ive taking product less month ive determined reason constantly foggy state mind feel like could stay bed day head feel pressurized eye face puffy sunday doc pharmacy arent open im going take chance hope withdrawl symptom im taking starting todayread read less\n",
            "\n",
            "\n",
            "Showing 5 sample review(s) for Rating 2:\n",
            "\n",
            "1. worst customer supporttheir product appears provide much convoluted nearly impossible new customer set without assistance firm however whenever met someone managed account expressed worry knowing perform certain thing would reaction ill email zendesk support article okay ive googling plainly hasnt helped im requesting assistance zendesk representative advised stated needed additional assistance would pay large sum money specialized person assist u already paying much utilize platform many technical issue least provide sort helpneedless say left year struggling use platform thanks never helping\n",
            "\n",
            "2. good app student\n",
            "\n",
            "3. look fool wife stayed bavaro princess hotel dec th look lobby filled sense opulent granduer open air concept marble floor various level numerous cosy couch chair courtyard filled pond grown coconut palm tree various plant numerous mention checking drink bar caught shuttle fourplex near beach hungry walked short distance complex beach served various finger food thing notice dominican run hour clock pizza french fry chicken finger salad fruit wine beer good farethe fun started went room figured hot shower bed hot water apparently pipe burst half resort problem fixed day fixed acknowlegement staff hotel happened used using face cloth unless speak spanish maid look like speaking russian ask nt key lock wall safe reason wife left silver bracelet makeup bag room let say maid little cleaning apart setback actually goodtime till night wife developed stomach infection ate resort know reason doctor punta cana hospital gave morning day left luckily covered medipassport employment reimbursed service cost thing cash traveller check hotel change peso bank town short walk away\n",
            "\n",
            "4. would like know average time withdrawl cymbalta\n",
            "\n",
            "5. laptop chatgpt opening oops error occurred showing solve problem\n",
            "\n",
            "\n",
            "Showing 5 sample review(s) for Rating 3:\n",
            "\n",
            "1. problem leaving heavy drugged feeling month side helping sleep night main goal\n",
            "\n",
            "2. med eight month done good depression nothing anxietyam also taking seroquel xr pm anxiety far working well allgoing ask doc effexor seems work better anxiety cronic paini think need mood stabilizer well side effoects bearable far\n",
            "\n",
            "3. mature ai\n",
            "\n",
            "4. drug addictive came cold turkey time know recommended thought would die benzodiazepine horrible use severe case week\n",
            "\n",
            "5. appreciate overall look feel tool think lot option order stick sole ticketing system\n",
            "\n",
            "\n",
            "Showing 5 sample review(s) for Rating 4:\n",
            "\n",
            "1. good replay thank much\n",
            "\n",
            "2. seems help curve ups down even longer period time\n",
            "\n",
            "3. job winder squeak\n",
            "\n",
            "4. gotten point leaving house unless absolutely heart would go haywire atrial tachycardia zoloft made life livable\n",
            "\n",
            "5. neorupathy foot much better\n",
            "\n",
            "\n",
            "Showing 5 sample review(s) for Rating 5:\n",
            "\n",
            "1. lexapro year problem drug helped much believe time change drug\n",
            "\n",
            "2. wired much seratoninantidepression med dr prescribed help get sleep mg wiped lower dose mg function next day worked well\n",
            "\n",
            "3. knowledge power knowledge crack pure form snorted eye\n",
            "\n",
            "4. fast data telling object\n",
            "\n",
            "5. app helpfulwe use many work\n",
            "\n"
          ]
        }
      ]
    },
    {
      "cell_type": "code",
      "source": [
        "short_counts = df[df['review'].apply(lambda x: len(str(x).split()) < 3)] \\\n",
        "                .groupby('rating').size().reset_index(name='count_less_than_3_words')\n",
        "\n",
        "print(short_counts)\n",
        "long_counts = df[df['review'].apply(lambda x: len(str(x).split()) > 50)] \\\n",
        "               .groupby('rating').size().reset_index(name='count_long_reviews')\n",
        "\n",
        "print(long_counts)"
      ],
      "metadata": {
        "colab": {
          "base_uri": "https://localhost:8080/"
        },
        "id": "C725ZRDyW8wp",
        "outputId": "a8e106d9-7c76-4cfa-cf54-06f34f75da78"
      },
      "execution_count": 20,
      "outputs": [
        {
          "output_type": "stream",
          "name": "stdout",
          "text": [
            "   rating  count_less_than_3_words\n",
            "0       1                      355\n",
            "1       2                      180\n",
            "2       3                      273\n",
            "3       4                      300\n",
            "4       5                      530\n",
            "   rating  count_long_reviews\n",
            "0       1                 502\n",
            "1       2                 824\n",
            "2       3                 664\n",
            "3       4                 674\n",
            "4       5                 282\n"
          ]
        }
      ]
    },
    {
      "cell_type": "markdown",
      "source": [
        "TRAIN_TEST_SPLIT"
      ],
      "metadata": {
        "id": "pVxERjWqXCvY"
      }
    },
    {
      "cell_type": "code",
      "source": [
        "from sklearn.model_selection import train_test_split\n",
        "\n",
        "# Suppose 'df' has columns: 'review' and 'rating'\n",
        "\n",
        "# Features (X) and labels (y)\n",
        "X = df['review']\n",
        "y = df['rating']\n",
        "\n",
        "# Perform stratified split\n",
        "X_train, X_test, y_train, y_test = train_test_split(\n",
        "    X, y,\n",
        "    test_size=0.2,\n",
        "    stratify=y,\n",
        "    random_state=42\n",
        ")\n",
        "\n",
        "# Optionally combine X and y back into DataFrames\n",
        "train_df = pd.DataFrame({'review': X_train, 'rating': y_train})\n",
        "test_df = pd.DataFrame({'review': X_test, 'rating': y_test})"
      ],
      "metadata": {
        "id": "6nOuvKGrXG6w"
      },
      "execution_count": 27,
      "outputs": []
    },
    {
      "cell_type": "markdown",
      "source": [
        "TF-IDF VECTORIZER"
      ],
      "metadata": {
        "id": "DmcdyQ5YXP7G"
      }
    },
    {
      "cell_type": "code",
      "source": [
        "from sklearn.feature_extraction.text import TfidfVectorizer\n",
        "\n",
        "vectorizer = TfidfVectorizer(max_features=5000) # Removed stop_words='english' as stopwords were already removed\n",
        "X_train_tfidf = vectorizer.fit_transform(X_train)\n",
        "X_test_tfidf = vectorizer.transform(X_test)"
      ],
      "metadata": {
        "id": "BKogQMamXV8h"
      },
      "execution_count": 28,
      "outputs": []
    },
    {
      "cell_type": "code",
      "source": [
        "df.to_csv('BALANCED_TRAIN_TEST.csv',index=False)"
      ],
      "metadata": {
        "id": "KJuvCxjZX7jp"
      },
      "execution_count": 31,
      "outputs": []
    }
  ]
}