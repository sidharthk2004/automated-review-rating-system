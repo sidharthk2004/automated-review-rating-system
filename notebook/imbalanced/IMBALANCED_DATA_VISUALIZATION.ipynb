{
  "nbformat": 4,
  "nbformat_minor": 0,
  "metadata": {
    "colab": {
      "provenance": []
    },
    "kernelspec": {
      "name": "python3",
      "display_name": "Python 3"
    },
    "language_info": {
      "name": "python"
    }
  },
  "cells": [
    {
      "cell_type": "code",
      "execution_count": 8,
      "metadata": {
        "colab": {
          "base_uri": "https://localhost:8080/",
          "height": 206
        },
        "id": "R3U4k_RB7he4",
        "outputId": "a00cd779-3eb3-4682-e31e-83d26594c42e"
      },
      "outputs": [
        {
          "output_type": "execute_result",
          "data": {
            "text/plain": [
              "                              review  rating\n",
              "0     do not understand how it works       1\n",
              "1                       wont install       1\n",
              "2               worse ai i ever chat       1\n",
              "3  demands a phone number nope f off       1\n",
              "4                very disgusting app       1"
            ],
            "text/html": [
              "\n",
              "  <div id=\"df-432d8bd5-ffcd-4549-99c3-a15a74758a75\" class=\"colab-df-container\">\n",
              "    <div>\n",
              "<style scoped>\n",
              "    .dataframe tbody tr th:only-of-type {\n",
              "        vertical-align: middle;\n",
              "    }\n",
              "\n",
              "    .dataframe tbody tr th {\n",
              "        vertical-align: top;\n",
              "    }\n",
              "\n",
              "    .dataframe thead th {\n",
              "        text-align: right;\n",
              "    }\n",
              "</style>\n",
              "<table border=\"1\" class=\"dataframe\">\n",
              "  <thead>\n",
              "    <tr style=\"text-align: right;\">\n",
              "      <th></th>\n",
              "      <th>review</th>\n",
              "      <th>rating</th>\n",
              "    </tr>\n",
              "  </thead>\n",
              "  <tbody>\n",
              "    <tr>\n",
              "      <th>0</th>\n",
              "      <td>do not understand how it works</td>\n",
              "      <td>1</td>\n",
              "    </tr>\n",
              "    <tr>\n",
              "      <th>1</th>\n",
              "      <td>wont install</td>\n",
              "      <td>1</td>\n",
              "    </tr>\n",
              "    <tr>\n",
              "      <th>2</th>\n",
              "      <td>worse ai i ever chat</td>\n",
              "      <td>1</td>\n",
              "    </tr>\n",
              "    <tr>\n",
              "      <th>3</th>\n",
              "      <td>demands a phone number nope f off</td>\n",
              "      <td>1</td>\n",
              "    </tr>\n",
              "    <tr>\n",
              "      <th>4</th>\n",
              "      <td>very disgusting app</td>\n",
              "      <td>1</td>\n",
              "    </tr>\n",
              "  </tbody>\n",
              "</table>\n",
              "</div>\n",
              "    <div class=\"colab-df-buttons\">\n",
              "\n",
              "  <div class=\"colab-df-container\">\n",
              "    <button class=\"colab-df-convert\" onclick=\"convertToInteractive('df-432d8bd5-ffcd-4549-99c3-a15a74758a75')\"\n",
              "            title=\"Convert this dataframe to an interactive table.\"\n",
              "            style=\"display:none;\">\n",
              "\n",
              "  <svg xmlns=\"http://www.w3.org/2000/svg\" height=\"24px\" viewBox=\"0 -960 960 960\">\n",
              "    <path d=\"M120-120v-720h720v720H120Zm60-500h600v-160H180v160Zm220 220h160v-160H400v160Zm0 220h160v-160H400v160ZM180-400h160v-160H180v160Zm440 0h160v-160H620v160ZM180-180h160v-160H180v160Zm440 0h160v-160H620v160Z\"/>\n",
              "  </svg>\n",
              "    </button>\n",
              "\n",
              "  <style>\n",
              "    .colab-df-container {\n",
              "      display:flex;\n",
              "      gap: 12px;\n",
              "    }\n",
              "\n",
              "    .colab-df-convert {\n",
              "      background-color: #E8F0FE;\n",
              "      border: none;\n",
              "      border-radius: 50%;\n",
              "      cursor: pointer;\n",
              "      display: none;\n",
              "      fill: #1967D2;\n",
              "      height: 32px;\n",
              "      padding: 0 0 0 0;\n",
              "      width: 32px;\n",
              "    }\n",
              "\n",
              "    .colab-df-convert:hover {\n",
              "      background-color: #E2EBFA;\n",
              "      box-shadow: 0px 1px 2px rgba(60, 64, 67, 0.3), 0px 1px 3px 1px rgba(60, 64, 67, 0.15);\n",
              "      fill: #174EA6;\n",
              "    }\n",
              "\n",
              "    .colab-df-buttons div {\n",
              "      margin-bottom: 4px;\n",
              "    }\n",
              "\n",
              "    [theme=dark] .colab-df-convert {\n",
              "      background-color: #3B4455;\n",
              "      fill: #D2E3FC;\n",
              "    }\n",
              "\n",
              "    [theme=dark] .colab-df-convert:hover {\n",
              "      background-color: #434B5C;\n",
              "      box-shadow: 0px 1px 3px 1px rgba(0, 0, 0, 0.15);\n",
              "      filter: drop-shadow(0px 1px 2px rgba(0, 0, 0, 0.3));\n",
              "      fill: #FFFFFF;\n",
              "    }\n",
              "  </style>\n",
              "\n",
              "    <script>\n",
              "      const buttonEl =\n",
              "        document.querySelector('#df-432d8bd5-ffcd-4549-99c3-a15a74758a75 button.colab-df-convert');\n",
              "      buttonEl.style.display =\n",
              "        google.colab.kernel.accessAllowed ? 'block' : 'none';\n",
              "\n",
              "      async function convertToInteractive(key) {\n",
              "        const element = document.querySelector('#df-432d8bd5-ffcd-4549-99c3-a15a74758a75');\n",
              "        const dataTable =\n",
              "          await google.colab.kernel.invokeFunction('convertToInteractive',\n",
              "                                                    [key], {});\n",
              "        if (!dataTable) return;\n",
              "\n",
              "        const docLinkHtml = 'Like what you see? Visit the ' +\n",
              "          '<a target=\"_blank\" href=https://colab.research.google.com/notebooks/data_table.ipynb>data table notebook</a>'\n",
              "          + ' to learn more about interactive tables.';\n",
              "        element.innerHTML = '';\n",
              "        dataTable['output_type'] = 'display_data';\n",
              "        await google.colab.output.renderOutput(dataTable, element);\n",
              "        const docLink = document.createElement('div');\n",
              "        docLink.innerHTML = docLinkHtml;\n",
              "        element.appendChild(docLink);\n",
              "      }\n",
              "    </script>\n",
              "  </div>\n",
              "\n",
              "\n",
              "    <div id=\"df-f4c23919-ab08-4772-9b0b-89773266acdc\">\n",
              "      <button class=\"colab-df-quickchart\" onclick=\"quickchart('df-f4c23919-ab08-4772-9b0b-89773266acdc')\"\n",
              "                title=\"Suggest charts\"\n",
              "                style=\"display:none;\">\n",
              "\n",
              "<svg xmlns=\"http://www.w3.org/2000/svg\" height=\"24px\"viewBox=\"0 0 24 24\"\n",
              "     width=\"24px\">\n",
              "    <g>\n",
              "        <path d=\"M19 3H5c-1.1 0-2 .9-2 2v14c0 1.1.9 2 2 2h14c1.1 0 2-.9 2-2V5c0-1.1-.9-2-2-2zM9 17H7v-7h2v7zm4 0h-2V7h2v10zm4 0h-2v-4h2v4z\"/>\n",
              "    </g>\n",
              "</svg>\n",
              "      </button>\n",
              "\n",
              "<style>\n",
              "  .colab-df-quickchart {\n",
              "      --bg-color: #E8F0FE;\n",
              "      --fill-color: #1967D2;\n",
              "      --hover-bg-color: #E2EBFA;\n",
              "      --hover-fill-color: #174EA6;\n",
              "      --disabled-fill-color: #AAA;\n",
              "      --disabled-bg-color: #DDD;\n",
              "  }\n",
              "\n",
              "  [theme=dark] .colab-df-quickchart {\n",
              "      --bg-color: #3B4455;\n",
              "      --fill-color: #D2E3FC;\n",
              "      --hover-bg-color: #434B5C;\n",
              "      --hover-fill-color: #FFFFFF;\n",
              "      --disabled-bg-color: #3B4455;\n",
              "      --disabled-fill-color: #666;\n",
              "  }\n",
              "\n",
              "  .colab-df-quickchart {\n",
              "    background-color: var(--bg-color);\n",
              "    border: none;\n",
              "    border-radius: 50%;\n",
              "    cursor: pointer;\n",
              "    display: none;\n",
              "    fill: var(--fill-color);\n",
              "    height: 32px;\n",
              "    padding: 0;\n",
              "    width: 32px;\n",
              "  }\n",
              "\n",
              "  .colab-df-quickchart:hover {\n",
              "    background-color: var(--hover-bg-color);\n",
              "    box-shadow: 0 1px 2px rgba(60, 64, 67, 0.3), 0 1px 3px 1px rgba(60, 64, 67, 0.15);\n",
              "    fill: var(--button-hover-fill-color);\n",
              "  }\n",
              "\n",
              "  .colab-df-quickchart-complete:disabled,\n",
              "  .colab-df-quickchart-complete:disabled:hover {\n",
              "    background-color: var(--disabled-bg-color);\n",
              "    fill: var(--disabled-fill-color);\n",
              "    box-shadow: none;\n",
              "  }\n",
              "\n",
              "  .colab-df-spinner {\n",
              "    border: 2px solid var(--fill-color);\n",
              "    border-color: transparent;\n",
              "    border-bottom-color: var(--fill-color);\n",
              "    animation:\n",
              "      spin 1s steps(1) infinite;\n",
              "  }\n",
              "\n",
              "  @keyframes spin {\n",
              "    0% {\n",
              "      border-color: transparent;\n",
              "      border-bottom-color: var(--fill-color);\n",
              "      border-left-color: var(--fill-color);\n",
              "    }\n",
              "    20% {\n",
              "      border-color: transparent;\n",
              "      border-left-color: var(--fill-color);\n",
              "      border-top-color: var(--fill-color);\n",
              "    }\n",
              "    30% {\n",
              "      border-color: transparent;\n",
              "      border-left-color: var(--fill-color);\n",
              "      border-top-color: var(--fill-color);\n",
              "      border-right-color: var(--fill-color);\n",
              "    }\n",
              "    40% {\n",
              "      border-color: transparent;\n",
              "      border-right-color: var(--fill-color);\n",
              "      border-top-color: var(--fill-color);\n",
              "    }\n",
              "    60% {\n",
              "      border-color: transparent;\n",
              "      border-right-color: var(--fill-color);\n",
              "    }\n",
              "    80% {\n",
              "      border-color: transparent;\n",
              "      border-right-color: var(--fill-color);\n",
              "      border-bottom-color: var(--fill-color);\n",
              "    }\n",
              "    90% {\n",
              "      border-color: transparent;\n",
              "      border-bottom-color: var(--fill-color);\n",
              "    }\n",
              "  }\n",
              "</style>\n",
              "\n",
              "      <script>\n",
              "        async function quickchart(key) {\n",
              "          const quickchartButtonEl =\n",
              "            document.querySelector('#' + key + ' button');\n",
              "          quickchartButtonEl.disabled = true;  // To prevent multiple clicks.\n",
              "          quickchartButtonEl.classList.add('colab-df-spinner');\n",
              "          try {\n",
              "            const charts = await google.colab.kernel.invokeFunction(\n",
              "                'suggestCharts', [key], {});\n",
              "          } catch (error) {\n",
              "            console.error('Error during call to suggestCharts:', error);\n",
              "          }\n",
              "          quickchartButtonEl.classList.remove('colab-df-spinner');\n",
              "          quickchartButtonEl.classList.add('colab-df-quickchart-complete');\n",
              "        }\n",
              "        (() => {\n",
              "          let quickchartButtonEl =\n",
              "            document.querySelector('#df-f4c23919-ab08-4772-9b0b-89773266acdc button');\n",
              "          quickchartButtonEl.style.display =\n",
              "            google.colab.kernel.accessAllowed ? 'block' : 'none';\n",
              "        })();\n",
              "      </script>\n",
              "    </div>\n",
              "\n",
              "    </div>\n",
              "  </div>\n"
            ],
            "application/vnd.google.colaboratory.intrinsic+json": {
              "type": "dataframe",
              "variable_name": "df"
            }
          },
          "metadata": {},
          "execution_count": 8
        }
      ],
      "source": [
        "import pandas as pd\n",
        "df=pd.read_csv('/content/allremaining_dataset.csv')\n",
        "df.head()"
      ]
    },
    {
      "cell_type": "code",
      "source": [
        "df['rating'].value_counts()\n"
      ],
      "metadata": {
        "colab": {
          "base_uri": "https://localhost:8080/",
          "height": 272
        },
        "id": "lOCXteHY8C44",
        "outputId": "5f2c044c-b723-4b92-d4b4-bccae85074f5"
      },
      "execution_count": 9,
      "outputs": [
        {
          "output_type": "execute_result",
          "data": {
            "text/plain": [
              "rating\n",
              "5    89127\n",
              "4    31759\n",
              "3    13682\n",
              "1    12825\n",
              "2     8493\n",
              "Name: count, dtype: int64"
            ],
            "text/html": [
              "<div>\n",
              "<style scoped>\n",
              "    .dataframe tbody tr th:only-of-type {\n",
              "        vertical-align: middle;\n",
              "    }\n",
              "\n",
              "    .dataframe tbody tr th {\n",
              "        vertical-align: top;\n",
              "    }\n",
              "\n",
              "    .dataframe thead th {\n",
              "        text-align: right;\n",
              "    }\n",
              "</style>\n",
              "<table border=\"1\" class=\"dataframe\">\n",
              "  <thead>\n",
              "    <tr style=\"text-align: right;\">\n",
              "      <th></th>\n",
              "      <th>count</th>\n",
              "    </tr>\n",
              "    <tr>\n",
              "      <th>rating</th>\n",
              "      <th></th>\n",
              "    </tr>\n",
              "  </thead>\n",
              "  <tbody>\n",
              "    <tr>\n",
              "      <th>5</th>\n",
              "      <td>89127</td>\n",
              "    </tr>\n",
              "    <tr>\n",
              "      <th>4</th>\n",
              "      <td>31759</td>\n",
              "    </tr>\n",
              "    <tr>\n",
              "      <th>3</th>\n",
              "      <td>13682</td>\n",
              "    </tr>\n",
              "    <tr>\n",
              "      <th>1</th>\n",
              "      <td>12825</td>\n",
              "    </tr>\n",
              "    <tr>\n",
              "      <th>2</th>\n",
              "      <td>8493</td>\n",
              "    </tr>\n",
              "  </tbody>\n",
              "</table>\n",
              "</div><br><label><b>dtype:</b> int64</label>"
            ]
          },
          "metadata": {},
          "execution_count": 9
        }
      ]
    },
    {
      "cell_type": "code",
      "source": [
        "import pandas as pd\n",
        "import numpy as np\n",
        "\n",
        "# Original rating counts\n",
        "original_counts = {\n",
        "    1: 12825,\n",
        "    2: 8493,\n",
        "    3: 13682,\n",
        "    4: 31759,\n",
        "    5: 89127\n",
        "}\n",
        "\n",
        "# Total original ratings\n",
        "total_original = sum(original_counts.values())\n",
        "\n",
        "# Target percentages\n",
        "target_percentages = {\n",
        "    1: 0.10,\n",
        "    2: 0.15,\n",
        "    3: 0.20,\n",
        "    4: 0.25,\n",
        "    5: 0.30\n",
        "}\n",
        "target_counts = {rating: int(total_original * pct) for rating, pct in target_percentages.items()}\n",
        "df_with_reviews = df[['review', 'rating']].copy()\n",
        "resampled_data = []\n",
        "\n",
        "for rating in range(1, 6):\n",
        "    current_group = df_with_reviews[df_with_reviews[\"rating\"] == rating]\n",
        "    target_count = target_counts[rating]\n",
        "\n",
        "    if target_count <= len(current_group):\n",
        "        sampled = current_group.sample(target_count, random_state=42)\n",
        "    else:\n",
        "        sampled = current_group.sample(target_count, replace=True, random_state=42)\n",
        "\n",
        "    resampled_data.append(sampled)\n",
        "resampled_df = pd.concat(resampled_data).reset_index(drop=True)\n",
        "print(\"New Rating Distribution:\")\n",
        "print(resampled_df[\"rating\"].value_counts().sort_index())"
      ],
      "metadata": {
        "colab": {
          "base_uri": "https://localhost:8080/"
        },
        "id": "RAo_zZXFrTsO",
        "outputId": "3c911993-0c07-403b-f84f-e863d5e130c7"
      },
      "execution_count": 10,
      "outputs": [
        {
          "output_type": "stream",
          "name": "stdout",
          "text": [
            "New Rating Distribution:\n",
            "rating\n",
            "1    15588\n",
            "2    23382\n",
            "3    31177\n",
            "4    38971\n",
            "5    46765\n",
            "Name: count, dtype: int64\n"
          ]
        }
      ]
    },
    {
      "cell_type": "markdown",
      "source": [
        "PIE CHART"
      ],
      "metadata": {
        "id": "xEiUC5YUKOy7"
      }
    },
    {
      "cell_type": "code",
      "source": [
        "\n",
        "\n",
        "import matplotlib.pyplot as plt\n",
        "plt.pie(resampled_df['rating'].value_counts(),labels=resampled_df['rating'].value_counts().index,autopct='%1.2f%%')\n",
        "plt.show()\n"
      ],
      "metadata": {
        "colab": {
          "base_uri": "https://localhost:8080/",
          "height": 406
        },
        "id": "y6cQbOx0rdsr",
        "outputId": "d8ae5205-0a3e-454a-8417-fdee1b40abe9"
      },
      "execution_count": 11,
      "outputs": [
        {
          "output_type": "display_data",
          "data": {
            "text/plain": [
              "<Figure size 640x480 with 1 Axes>"
            ],
            "image/png": "[encoded data removed]"
          },
          "metadata": {}
        }
      ]
    },
    {
      "cell_type": "markdown",
      "source": [
        "HORIZONTAL CHART(IMBALANCED DATASET)"
      ],
      "metadata": {
        "id": "hCpWt34UKR8H"
      }
    },
    {
      "cell_type": "code",
      "source": [
        "import matplotlib.pyplot as plt\n",
        "x=df['rating'].value_counts().index\n",
        "y=df['rating'].value_counts().values\n",
        "plt.barh(x,y)\n",
        "plt.title('horizontal bar plot')\n",
        "plt.xlabel('count')\n",
        "plt.ylabel('ratings')\n",
        "plt.show()"
      ],
      "metadata": {
        "colab": {
          "base_uri": "https://localhost:8080/",
          "height": 472
        },
        "id": "xHQ7nn3qLDMl",
        "outputId": "3b7b56a3-e191-43e6-ff54-d9eda91af6bc"
      },
      "execution_count": 12,
      "outputs": [
        {
          "output_type": "display_data",
          "data": {
            "text/plain": [
              "<Figure size 640x480 with 1 Axes>"
            ],
            "image/png": "[encoded data removed]"
          },
          "metadata": {}
        }
      ]
    },
    {
      "cell_type": "markdown",
      "source": [
        "BAR CHART(IMBALANCED DATASET)"
      ],
      "metadata": {
        "id": "r8YO8jcrLO1R"
      }
    },
    {
      "cell_type": "code",
      "source": [
        "import seaborn as sns\n",
        "import matplotlib.pyplot as plt\n",
        "x=resampled_df['rating'].value_counts().index\n",
        "y=resampled_df['rating'].value_counts().values\n",
        "sns.barplot(x=x,y=y)\n",
        "plt.title('bar plot-ratings count')\n",
        "plt.xlabel('ratings')\n",
        "plt.ylabel('count')\n",
        "plt.show()"
      ],
      "metadata": {
        "colab": {
          "base_uri": "https://localhost:8080/",
          "height": 472
        },
        "id": "Jrh6VDEELS8g",
        "outputId": "885c74d7-4f7f-44cb-8887-1f2eadcad97a"
      },
      "execution_count": 13,
      "outputs": [
        {
          "output_type": "display_data",
          "data": {
            "text/plain": [
              "<Figure size 640x480 with 1 Axes>"
            ],
            "image/png": "[encoded data removed]"
          },
          "metadata": {}
        }
      ]
    },
    {
      "cell_type": "code",
      "source": [
        "resampled_df['rating'].value_counts()\n"
      ],
      "metadata": {
        "colab": {
          "base_uri": "https://localhost:8080/",
          "height": 272
        },
        "id": "KYccAXkKrvzS",
        "outputId": "c16e4c8c-1e30-4f9b-8850-1e4fd7ceaaee"
      },
      "execution_count": 14,
      "outputs": [
        {
          "output_type": "execute_result",
          "data": {
            "text/plain": [
              "rating\n",
              "5    46765\n",
              "4    38971\n",
              "3    31177\n",
              "2    23382\n",
              "1    15588\n",
              "Name: count, dtype: int64"
            ],
            "text/html": [
              "<div>\n",
              "<style scoped>\n",
              "    .dataframe tbody tr th:only-of-type {\n",
              "        vertical-align: middle;\n",
              "    }\n",
              "\n",
              "    .dataframe tbody tr th {\n",
              "        vertical-align: top;\n",
              "    }\n",
              "\n",
              "    .dataframe thead th {\n",
              "        text-align: right;\n",
              "    }\n",
              "</style>\n",
              "<table border=\"1\" class=\"dataframe\">\n",
              "  <thead>\n",
              "    <tr style=\"text-align: right;\">\n",
              "      <th></th>\n",
              "      <th>count</th>\n",
              "    </tr>\n",
              "    <tr>\n",
              "      <th>rating</th>\n",
              "      <th></th>\n",
              "    </tr>\n",
              "  </thead>\n",
              "  <tbody>\n",
              "    <tr>\n",
              "      <th>5</th>\n",
              "      <td>46765</td>\n",
              "    </tr>\n",
              "    <tr>\n",
              "      <th>4</th>\n",
              "      <td>38971</td>\n",
              "    </tr>\n",
              "    <tr>\n",
              "      <th>3</th>\n",
              "      <td>31177</td>\n",
              "    </tr>\n",
              "    <tr>\n",
              "      <th>2</th>\n",
              "      <td>23382</td>\n",
              "    </tr>\n",
              "    <tr>\n",
              "      <th>1</th>\n",
              "      <td>15588</td>\n",
              "    </tr>\n",
              "  </tbody>\n",
              "</table>\n",
              "</div><br><label><b>dtype:</b> int64</label>"
            ]
          },
          "metadata": {},
          "execution_count": 14
        }
      ]
    },
    {
      "cell_type": "code",
      "source": [
        "\n",
        "# Number of reviews to show per rating\n",
        "n = 3\n",
        "\n",
        "# Loop through ratings from 1 to 5\n",
        "for rating in range(1, 6):\n",
        "    # Filter reviews of the current rating\n",
        "    filtered_reviews = resampled_df[resampled_df['rating'] == rating]['review'].dropna()\n",
        "\n",
        "    # Sample 'n' reviews or all if fewer\n",
        "    sample_reviews = filtered_reviews.sample(n=min(n, len(filtered_reviews)), random_state=rating)\n",
        "\n",
        "    # Print the results\n",
        "    print(f\"\\nShowing {min(n, len(filtered_reviews))} sample review(s) for Rating {rating}:\\n\")\n",
        "    for i, review in enumerate(sample_reviews, 1):\n",
        "        print(f\"{i}. {review.strip()}\\n\")\n"
      ],
      "metadata": {
        "colab": {
          "base_uri": "https://localhost:8080/"
        },
        "id": "XpBcNFEVCybC",
        "outputId": "9462d17c-d928-48e3-850e-5ca4fe6b7a7a"
      },
      "execution_count": 15,
      "outputs": [
        {
          "output_type": "stream",
          "name": "stdout",
          "text": [
            "\n",
            "Showing 3 sample review(s) for Rating 1:\n",
            "\n",
            "1. cant even login without having chrome installed\n",
            "\n",
            "2. even after paying for monthly subscription my chatgpt plus havent started and there is no support to reach out kindly check and revert\n",
            "\n",
            "3. extreme usless app\n",
            "\n",
            "\n",
            "Showing 3 sample review(s) for Rating 2:\n",
            "\n",
            "1. average best overpriced read reviews nt know stayed beds raves sag middle good thing jr suite thier bed resturant high priced chicken sandwich not time hawaii fact time stayed ohau noisey lot large group meetings pools closed time carpet dirty feet socks got dirty whrn walked not stay recommend hotel friends\n",
            "\n",
            "2. six\n",
            "\n",
            "3. mostly side effects of loose stools and diarea\n",
            "\n",
            "\n",
            "Showing 3 sample review(s) for Rating 3:\n",
            "\n",
            "1. pretty good visit arrived couple days labor day long weekend lots spare rooms floor like penthouseexpensive thoughsmall bathroom sink actually outside room weirdfree internetok service ok breakfast average location average cleanness\n",
            "\n",
            "2. even the premium version can be quite slow with basic queries and tasks i am regularly blocked from gpt after just a few minutes saying i have hit a limit disappointing and poor value\n",
            "\n",
            "3. at first the medication did not effect my appetite which is that of a horse but now i notice that i am not as hungry as i usually am and i have a little more energy i havent lost any weight yet but ive only been taking this medication for a week and a half i am going to go back to prozac mg bc i felt a lot more energetic and actually lost pounds on it i was much happier on the prozac\n",
            "\n",
            "\n",
            "Showing 3 sample review(s) for Rating 4:\n",
            "\n",
            "1. as an ai language model chatgpt strives to offer helpful and relevant responses based on information up to january however its important to acknowledge that there may be developments and changes beyond that date that could affect the accuracy and relevance of its responses while chatgpt aims to provide valuable assistance users should exercise critical thinking and consult uptodate sources for the most current information\n",
            "\n",
            "2. the mcq answer is not accurate\n",
            "\n",
            "3. ive been taking this medication for years its helped me a little with the obsessivecompulsive and with anxietyi am satisfied with paxilmg and trazadone i take for sleep\n",
            "\n",
            "\n",
            "Showing 3 sample review(s) for Rating 5:\n",
            "\n",
            "1. i was taking zoloft for yrswhen it felt like it stopped workingmy dr put me on cymbalta now for the last monthsand after onnly weeki immediatly began to feel betterits a great medication highly reccomend it for depressionanxiety which i suffer from severly\n",
            "\n",
            "2. ᴠᴇʀʏ ʙᴇsᴛ ᴀᴘᴘʟɪᴄᴀᴛɪᴏɴ ᴛᴀʟᴋɪɴɢ ᴍᴇ ᴊᴜsᴛ ʟɪᴋᴇ ᴀ ғʀɪᴇɴᴅ ᴄʟᴇᴀʀ ᴀɴsᴡᴇʀ ᴘʀᴏᴠɪᴅᴇ ᴡɪᴛʜᴏᴜᴛ ᴀɴʏ ʟɪɴᴋɪɴɢ ᴘʀᴏʙʟᴇᴍ ɢʀᴇᴀᴛ ᴀᴘᴘʟɪᴄᴀᴛɪᴏɴ ᴄᴏᴍᴘᴀʀᴇ ᴀs ɢᴏᴏɢʟᴇ\n",
            "\n",
            "3. its awesome i love it by using because of i need it on writing essay question answer etc\n",
            "\n"
          ]
        }
      ]
    },
    {
      "cell_type": "code",
      "source": [
        "resampled_df.to_csv('imbalanced_dataset.csv', index=False)"
      ],
      "metadata": {
        "id": "U6IXk75gGEbX"
      },
      "execution_count": 16,
      "outputs": []
    }
  ]
}