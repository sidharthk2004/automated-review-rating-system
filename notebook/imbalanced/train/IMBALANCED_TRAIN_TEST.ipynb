{
  "nbformat": 4,
  "nbformat_minor": 0,
  "metadata": {
    "colab": {
      "provenance": []
    },
    "kernelspec": {
      "name": "python3",
      "display_name": "Python 3"
    },
    "language_info": {
      "name": "python"
    }
  },
  "cells": [
    {
      "cell_type": "markdown",
      "source": [
        "LOADING THE DATASET"
      ],
      "metadata": {
        "id": "0rBUSXhziwCu"
      }
    },
    {
      "cell_type": "code",
      "execution_count": 4,
      "metadata": {
        "colab": {
          "base_uri": "https://localhost:8080/",
          "height": 206
        },
        "id": "kDSsuaA2NQlB",
        "outputId": "096887d7-e37c-49b2-b3d3-2f3d88472616"
      },
      "outputs": [
        {
          "output_type": "execute_result",
          "data": {
            "text/plain": [
              "                                              review  rating\n",
              "0  bad costly experience unfortunately boyfriend ...       1\n",
              "1                     more aggressive and aggervated       1\n",
              "2  after latest update of app the app is not work...       1\n",
              "3  it was hard to get on but i stuck with it for ...       1\n",
              "4  kahala hawaiian word means overrated begin exp...       1"
            ],
            "text/html": [
              "\n",
              "  <div id=\"df-8d0e4068-bafb-45e6-a8f1-d303744572f7\" class=\"colab-df-container\">\n",
              "    <div>\n",
              "<style scoped>\n",
              "    .dataframe tbody tr th:only-of-type {\n",
              "        vertical-align: middle;\n",
              "    }\n",
              "\n",
              "    .dataframe tbody tr th {\n",
              "        vertical-align: top;\n",
              "    }\n",
              "\n",
              "    .dataframe thead th {\n",
              "        text-align: right;\n",
              "    }\n",
              "</style>\n",
              "<table border=\"1\" class=\"dataframe\">\n",
              "  <thead>\n",
              "    <tr style=\"text-align: right;\">\n",
              "      <th></th>\n",
              "      <th>review</th>\n",
              "      <th>rating</th>\n",
              "    </tr>\n",
              "  </thead>\n",
              "  <tbody>\n",
              "    <tr>\n",
              "      <th>0</th>\n",
              "      <td>bad costly experience unfortunately boyfriend ...</td>\n",
              "      <td>1</td>\n",
              "    </tr>\n",
              "    <tr>\n",
              "      <th>1</th>\n",
              "      <td>more aggressive and aggervated</td>\n",
              "      <td>1</td>\n",
              "    </tr>\n",
              "    <tr>\n",
              "      <th>2</th>\n",
              "      <td>after latest update of app the app is not work...</td>\n",
              "      <td>1</td>\n",
              "    </tr>\n",
              "    <tr>\n",
              "      <th>3</th>\n",
              "      <td>it was hard to get on but i stuck with it for ...</td>\n",
              "      <td>1</td>\n",
              "    </tr>\n",
              "    <tr>\n",
              "      <th>4</th>\n",
              "      <td>kahala hawaiian word means overrated begin exp...</td>\n",
              "      <td>1</td>\n",
              "    </tr>\n",
              "  </tbody>\n",
              "</table>\n",
              "</div>\n",
              "    <div class=\"colab-df-buttons\">\n",
              "\n",
              "  <div class=\"colab-df-container\">\n",
              "    <button class=\"colab-df-convert\" onclick=\"convertToInteractive('df-8d0e4068-bafb-45e6-a8f1-d303744572f7')\"\n",
              "            title=\"Convert this dataframe to an interactive table.\"\n",
              "            style=\"display:none;\">\n",
              "\n",
              "  <svg xmlns=\"http://www.w3.org/2000/svg\" height=\"24px\" viewBox=\"0 -960 960 960\">\n",
              "    <path d=\"M120-120v-720h720v720H120Zm60-500h600v-160H180v160Zm220 220h160v-160H400v160Zm0 220h160v-160H400v160ZM180-400h160v-160H180v160Zm440 0h160v-160H620v160ZM180-180h160v-160H180v160Zm440 0h160v-160H620v160Z\"/>\n",
              "  </svg>\n",
              "    </button>\n",
              "\n",
              "  <style>\n",
              "    .colab-df-container {\n",
              "      display:flex;\n",
              "      gap: 12px;\n",
              "    }\n",
              "\n",
              "    .colab-df-convert {\n",
              "      background-color: #E8F0FE;\n",
              "      border: none;\n",
              "      border-radius: 50%;\n",
              "      cursor: pointer;\n",
              "      display: none;\n",
              "      fill: #1967D2;\n",
              "      height: 32px;\n",
              "      padding: 0 0 0 0;\n",
              "      width: 32px;\n",
              "    }\n",
              "\n",
              "    .colab-df-convert:hover {\n",
              "      background-color: #E2EBFA;\n",
              "      box-shadow: 0px 1px 2px rgba(60, 64, 67, 0.3), 0px 1px 3px 1px rgba(60, 64, 67, 0.15);\n",
              "      fill: #174EA6;\n",
              "    }\n",
              "\n",
              "    .colab-df-buttons div {\n",
              "      margin-bottom: 4px;\n",
              "    }\n",
              "\n",
              "    [theme=dark] .colab-df-convert {\n",
              "      background-color: #3B4455;\n",
              "      fill: #D2E3FC;\n",
              "    }\n",
              "\n",
              "    [theme=dark] .colab-df-convert:hover {\n",
              "      background-color: #434B5C;\n",
              "      box-shadow: 0px 1px 3px 1px rgba(0, 0, 0, 0.15);\n",
              "      filter: drop-shadow(0px 1px 2px rgba(0, 0, 0, 0.3));\n",
              "      fill: #FFFFFF;\n",
              "    }\n",
              "  </style>\n",
              "\n",
              "    <script>\n",
              "      const buttonEl =\n",
              "        document.querySelector('#df-8d0e4068-bafb-45e6-a8f1-d303744572f7 button.colab-df-convert');\n",
              "      buttonEl.style.display =\n",
              "        google.colab.kernel.accessAllowed ? 'block' : 'none';\n",
              "\n",
              "      async function convertToInteractive(key) {\n",
              "        const element = document.querySelector('#df-8d0e4068-bafb-45e6-a8f1-d303744572f7');\n",
              "        const dataTable =\n",
              "          await google.colab.kernel.invokeFunction('convertToInteractive',\n",
              "                                                    [key], {});\n",
              "        if (!dataTable) return;\n",
              "\n",
              "        const docLinkHtml = 'Like what you see? Visit the ' +\n",
              "          '<a target=\"_blank\" href=https://colab.research.google.com/notebooks/data_table.ipynb>data table notebook</a>'\n",
              "          + ' to learn more about interactive tables.';\n",
              "        element.innerHTML = '';\n",
              "        dataTable['output_type'] = 'display_data';\n",
              "        await google.colab.output.renderOutput(dataTable, element);\n",
              "        const docLink = document.createElement('div');\n",
              "        docLink.innerHTML = docLinkHtml;\n",
              "        element.appendChild(docLink);\n",
              "      }\n",
              "    </script>\n",
              "  </div>\n",
              "\n",
              "\n",
              "    <div id=\"df-8e196e49-8fbb-47a3-acc8-e8e4246f54b0\">\n",
              "      <button class=\"colab-df-quickchart\" onclick=\"quickchart('df-8e196e49-8fbb-47a3-acc8-e8e4246f54b0')\"\n",
              "                title=\"Suggest charts\"\n",
              "                style=\"display:none;\">\n",
              "\n",
              "<svg xmlns=\"http://www.w3.org/2000/svg\" height=\"24px\"viewBox=\"0 0 24 24\"\n",
              "     width=\"24px\">\n",
              "    <g>\n",
              "        <path d=\"M19 3H5c-1.1 0-2 .9-2 2v14c0 1.1.9 2 2 2h14c1.1 0 2-.9 2-2V5c0-1.1-.9-2-2-2zM9 17H7v-7h2v7zm4 0h-2V7h2v10zm4 0h-2v-4h2v4z\"/>\n",
              "    </g>\n",
              "</svg>\n",
              "      </button>\n",
              "\n",
              "<style>\n",
              "  .colab-df-quickchart {\n",
              "      --bg-color: #E8F0FE;\n",
              "      --fill-color: #1967D2;\n",
              "      --hover-bg-color: #E2EBFA;\n",
              "      --hover-fill-color: #174EA6;\n",
              "      --disabled-fill-color: #AAA;\n",
              "      --disabled-bg-color: #DDD;\n",
              "  }\n",
              "\n",
              "  [theme=dark] .colab-df-quickchart {\n",
              "      --bg-color: #3B4455;\n",
              "      --fill-color: #D2E3FC;\n",
              "      --hover-bg-color: #434B5C;\n",
              "      --hover-fill-color: #FFFFFF;\n",
              "      --disabled-bg-color: #3B4455;\n",
              "      --disabled-fill-color: #666;\n",
              "  }\n",
              "\n",
              "  .colab-df-quickchart {\n",
              "    background-color: var(--bg-color);\n",
              "    border: none;\n",
              "    border-radius: 50%;\n",
              "    cursor: pointer;\n",
              "    display: none;\n",
              "    fill: var(--fill-color);\n",
              "    height: 32px;\n",
              "    padding: 0;\n",
              "    width: 32px;\n",
              "  }\n",
              "\n",
              "  .colab-df-quickchart:hover {\n",
              "    background-color: var(--hover-bg-color);\n",
              "    box-shadow: 0 1px 2px rgba(60, 64, 67, 0.3), 0 1px 3px 1px rgba(60, 64, 67, 0.15);\n",
              "    fill: var(--button-hover-fill-color);\n",
              "  }\n",
              "\n",
              "  .colab-df-quickchart-complete:disabled,\n",
              "  .colab-df-quickchart-complete:disabled:hover {\n",
              "    background-color: var(--disabled-bg-color);\n",
              "    fill: var(--disabled-fill-color);\n",
              "    box-shadow: none;\n",
              "  }\n",
              "\n",
              "  .colab-df-spinner {\n",
              "    border: 2px solid var(--fill-color);\n",
              "    border-color: transparent;\n",
              "    border-bottom-color: var(--fill-color);\n",
              "    animation:\n",
              "      spin 1s steps(1) infinite;\n",
              "  }\n",
              "\n",
              "  @keyframes spin {\n",
              "    0% {\n",
              "      border-color: transparent;\n",
              "      border-bottom-color: var(--fill-color);\n",
              "      border-left-color: var(--fill-color);\n",
              "    }\n",
              "    20% {\n",
              "      border-color: transparent;\n",
              "      border-left-color: var(--fill-color);\n",
              "      border-top-color: var(--fill-color);\n",
              "    }\n",
              "    30% {\n",
              "      border-color: transparent;\n",
              "      border-left-color: var(--fill-color);\n",
              "      border-top-color: var(--fill-color);\n",
              "      border-right-color: var(--fill-color);\n",
              "    }\n",
              "    40% {\n",
              "      border-color: transparent;\n",
              "      border-right-color: var(--fill-color);\n",
              "      border-top-color: var(--fill-color);\n",
              "    }\n",
              "    60% {\n",
              "      border-color: transparent;\n",
              "      border-right-color: var(--fill-color);\n",
              "    }\n",
              "    80% {\n",
              "      border-color: transparent;\n",
              "      border-right-color: var(--fill-color);\n",
              "      border-bottom-color: var(--fill-color);\n",
              "    }\n",
              "    90% {\n",
              "      border-color: transparent;\n",
              "      border-bottom-color: var(--fill-color);\n",
              "    }\n",
              "  }\n",
              "</style>\n",
              "\n",
              "      <script>\n",
              "        async function quickchart(key) {\n",
              "          const quickchartButtonEl =\n",
              "            document.querySelector('#' + key + ' button');\n",
              "          quickchartButtonEl.disabled = true;  // To prevent multiple clicks.\n",
              "          quickchartButtonEl.classList.add('colab-df-spinner');\n",
              "          try {\n",
              "            const charts = await google.colab.kernel.invokeFunction(\n",
              "                'suggestCharts', [key], {});\n",
              "          } catch (error) {\n",
              "            console.error('Error during call to suggestCharts:', error);\n",
              "          }\n",
              "          quickchartButtonEl.classList.remove('colab-df-spinner');\n",
              "          quickchartButtonEl.classList.add('colab-df-quickchart-complete');\n",
              "        }\n",
              "        (() => {\n",
              "          let quickchartButtonEl =\n",
              "            document.querySelector('#df-8e196e49-8fbb-47a3-acc8-e8e4246f54b0 button');\n",
              "          quickchartButtonEl.style.display =\n",
              "            google.colab.kernel.accessAllowed ? 'block' : 'none';\n",
              "        })();\n",
              "      </script>\n",
              "    </div>\n",
              "\n",
              "    </div>\n",
              "  </div>\n"
            ],
            "application/vnd.google.colaboratory.intrinsic+json": {
              "type": "dataframe",
              "variable_name": "df"
            }
          },
          "metadata": {},
          "execution_count": 4
        }
      ],
      "source": [
        "import pandas as pd\n",
        "df=pd.read_csv('/content/imbalanced_dataset (1).csv')\n",
        "df.head(5)"
      ]
    },
    {
      "cell_type": "code",
      "source": [
        "df['rating'].value_counts()"
      ],
      "metadata": {
        "colab": {
          "base_uri": "https://localhost:8080/",
          "height": 272
        },
        "id": "71Pu9R38Ofuk",
        "outputId": "4801b788-e50e-44d9-da14-d0c3a1142046"
      },
      "execution_count": 5,
      "outputs": [
        {
          "output_type": "execute_result",
          "data": {
            "text/plain": [
              "rating\n",
              "5    46765\n",
              "4    38971\n",
              "3    31177\n",
              "2    23382\n",
              "1    15588\n",
              "Name: count, dtype: int64"
            ],
            "text/html": [
              "<div>\n",
              "<style scoped>\n",
              "    .dataframe tbody tr th:only-of-type {\n",
              "        vertical-align: middle;\n",
              "    }\n",
              "\n",
              "    .dataframe tbody tr th {\n",
              "        vertical-align: top;\n",
              "    }\n",
              "\n",
              "    .dataframe thead th {\n",
              "        text-align: right;\n",
              "    }\n",
              "</style>\n",
              "<table border=\"1\" class=\"dataframe\">\n",
              "  <thead>\n",
              "    <tr style=\"text-align: right;\">\n",
              "      <th></th>\n",
              "      <th>count</th>\n",
              "    </tr>\n",
              "    <tr>\n",
              "      <th>rating</th>\n",
              "      <th></th>\n",
              "    </tr>\n",
              "  </thead>\n",
              "  <tbody>\n",
              "    <tr>\n",
              "      <th>5</th>\n",
              "      <td>46765</td>\n",
              "    </tr>\n",
              "    <tr>\n",
              "      <th>4</th>\n",
              "      <td>38971</td>\n",
              "    </tr>\n",
              "    <tr>\n",
              "      <th>3</th>\n",
              "      <td>31177</td>\n",
              "    </tr>\n",
              "    <tr>\n",
              "      <th>2</th>\n",
              "      <td>23382</td>\n",
              "    </tr>\n",
              "    <tr>\n",
              "      <th>1</th>\n",
              "      <td>15588</td>\n",
              "    </tr>\n",
              "  </tbody>\n",
              "</table>\n",
              "</div><br><label><b>dtype:</b> int64</label>"
            ]
          },
          "metadata": {},
          "execution_count": 5
        }
      ]
    },
    {
      "cell_type": "markdown",
      "source": [
        "REMOVING STOPWORDS"
      ],
      "metadata": {
        "id": "KUn8vs6kOngD"
      }
    },
    {
      "cell_type": "code",
      "source": [
        "import nltk\n",
        "from nltk.corpus import stopwords\n",
        "from nltk.tokenize import word_tokenize\n",
        "nltk.download('stopwords')\n",
        "nltk.download('punkt')\n",
        "nltk.download('punkt_tab') # Download the missing resource\n",
        "stop_words = set(stopwords.words('english'))\n",
        "def remove_stopwords(text):\n",
        "    words = word_tokenize(str(text))  # tokenize text\n",
        "    filtered = [word for word in words if word.lower() not in stop_words]\n",
        "    return ' '.join(filtered)\n",
        "df['review']=df['review'].apply(remove_stopwords)"
      ],
      "metadata": {
        "colab": {
          "base_uri": "https://localhost:8080/"
        },
        "id": "u3Km2o5TOp5f",
        "outputId": "ad9065de-6d9b-4d12-ba8b-0e8615649ddd"
      },
      "execution_count": 6,
      "outputs": [
        {
          "output_type": "stream",
          "name": "stderr",
          "text": [
            "[nltk_data] Downloading package stopwords to /root/nltk_data...\n",
            "[nltk_data]   Unzipping corpora/stopwords.zip.\n",
            "[nltk_data] Downloading package punkt to /root/nltk_data...\n",
            "[nltk_data]   Unzipping tokenizers/punkt.zip.\n",
            "[nltk_data] Downloading package punkt_tab to /root/nltk_data...\n",
            "[nltk_data]   Unzipping tokenizers/punkt_tab.zip.\n"
          ]
        }
      ]
    },
    {
      "cell_type": "code",
      "source": [
        "stop_words = set(stopwords.words('english'))\n",
        "print(\"Total stopwords:\", len(stop_words))\n",
        "print(sorted(stop_words))  # Sorted alphabetically"
      ],
      "metadata": {
        "colab": {
          "base_uri": "https://localhost:8080/"
        },
        "id": "GIAFUUzSPOlm",
        "outputId": "fa7fc6e3-953f-4f05-da2c-d3cd423f0091"
      },
      "execution_count": 7,
      "outputs": [
        {
          "output_type": "stream",
          "name": "stdout",
          "text": [
            "Total stopwords: 198\n",
            "['a', 'about', 'above', 'after', 'again', 'against', 'ain', 'all', 'am', 'an', 'and', 'any', 'are', 'aren', \"aren't\", 'as', 'at', 'be', 'because', 'been', 'before', 'being', 'below', 'between', 'both', 'but', 'by', 'can', 'couldn', \"couldn't\", 'd', 'did', 'didn', \"didn't\", 'do', 'does', 'doesn', \"doesn't\", 'doing', 'don', \"don't\", 'down', 'during', 'each', 'few', 'for', 'from', 'further', 'had', 'hadn', \"hadn't\", 'has', 'hasn', \"hasn't\", 'have', 'haven', \"haven't\", 'having', 'he', \"he'd\", \"he'll\", \"he's\", 'her', 'here', 'hers', 'herself', 'him', 'himself', 'his', 'how', 'i', \"i'd\", \"i'll\", \"i'm\", \"i've\", 'if', 'in', 'into', 'is', 'isn', \"isn't\", 'it', \"it'd\", \"it'll\", \"it's\", 'its', 'itself', 'just', 'll', 'm', 'ma', 'me', 'mightn', \"mightn't\", 'more', 'most', 'mustn', \"mustn't\", 'my', 'myself', 'needn', \"needn't\", 'no', 'nor', 'not', 'now', 'o', 'of', 'off', 'on', 'once', 'only', 'or', 'other', 'our', 'ours', 'ourselves', 'out', 'over', 'own', 're', 's', 'same', 'shan', \"shan't\", 'she', \"she'd\", \"she'll\", \"she's\", 'should', \"should've\", 'shouldn', \"shouldn't\", 'so', 'some', 'such', 't', 'than', 'that', \"that'll\", 'the', 'their', 'theirs', 'them', 'themselves', 'then', 'there', 'these', 'they', \"they'd\", \"they'll\", \"they're\", \"they've\", 'this', 'those', 'through', 'to', 'too', 'under', 'until', 'up', 've', 'very', 'was', 'wasn', \"wasn't\", 'we', \"we'd\", \"we'll\", \"we're\", \"we've\", 'were', 'weren', \"weren't\", 'what', 'when', 'where', 'which', 'while', 'who', 'whom', 'why', 'will', 'with', 'won', \"won't\", 'wouldn', \"wouldn't\", 'y', 'you', \"you'd\", \"you'll\", \"you're\", \"you've\", 'your', 'yours', 'yourself', 'yourselves']\n"
          ]
        }
      ]
    },
    {
      "cell_type": "markdown",
      "source": [
        "SAMPLE REVIEWS"
      ],
      "metadata": {
        "id": "Gy8Z6l_mUa_i"
      }
    },
    {
      "cell_type": "code",
      "source": [
        "n = 8\n",
        "\n",
        "# Loop through ratings from 1 to 5\n",
        "for rating in range(1, 6):\n",
        "    # Filter reviews of the current rating\n",
        "    filtered_reviews = df[df['rating'] == rating]['review'].dropna()\n",
        "\n",
        "    # Sample 'n' reviews or all if fewer\n",
        "    sample_reviews = filtered_reviews.sample(n=min(n, len(filtered_reviews)), random_state=rating)\n",
        "    print(f\"\\nShowing {min(n, len(filtered_reviews))} sample review(s) for Rating {rating}:\\n\")\n",
        "    for i, review in enumerate(sample_reviews, 1):\n",
        "        print(f\"{i}. {review.strip()}\\n\")"
      ],
      "metadata": {
        "colab": {
          "base_uri": "https://localhost:8080/"
        },
        "id": "xPotSyszPfoS",
        "outputId": "b1e95df3-ef77-4427-ed1a-744bcd2289ad"
      },
      "execution_count": 8,
      "outputs": [
        {
          "output_type": "stream",
          "name": "stdout",
          "text": [
            "\n",
            "Showing 8 sample review(s) for Rating 1:\n",
            "\n",
            "1. cant even login without chrome installed\n",
            "\n",
            "2. even paying monthly subscription chatgpt plus havent started support reach kindly check revert\n",
            "\n",
            "3. extreme usless app\n",
            "\n",
            "4. headachessweatinglose appetitelack sleep\n",
            "\n",
            "5. truly awful admit slightly sceptical arriving hotel city centre old took attempts room smoking booking specified nonsmoking ca nt guarantee non smoking room need medical certificate lot good telling room stuff therethe hotel woken thought nt sure leaving case belongings therevery poor tired run rude staff hey charge room nightavoid costs complete rip\n",
            "\n",
            "6. cesspool carribean booked trip apple vacations nt recommend travel advice resort construction going right resort building service desk waiters horrible supposed working food bland disgusting residents including wife ill eating food resort purposely overbooked given room purchased room rented supposed building paid order room paid pay extra beach beautiful ample sun\n",
            "\n",
            "7. beware really wish could give drug first life great didnt know better works living nightmare effexor missed dose even minutes would get worst withdrawal symptoms went trip week forgot effexor easily worst week entire life extremely bad brain zaps bad diarrhea vomiting flu feeling along honestly felt like someone tazing legs horrible brain leg zaps beyond sick spent majority vacation bathroom soon got home took missed dose started feel completely normal within years begged psychiatrist take withdrawal severe take ever run thisread read less\n",
            "\n",
            "8. medication caused horrible night terrors every day taken much could remain asleep hours night night terrors went away soon discontinued medicine\n",
            "\n",
            "\n",
            "Showing 8 sample review(s) for Rating 2:\n",
            "\n",
            "1. average best overpriced read reviews nt know stayed beds raves sag middle good thing jr suite thier bed resturant high priced chicken sandwich time hawaii fact time stayed ohau noisey lot large group meetings pools closed time carpet dirty feet socks got dirty whrn walked stay recommend hotel friends\n",
            "\n",
            "2. six\n",
            "\n",
            "3. mostly side effects loose stools diarea\n",
            "\n",
            "4. experienced weight gain severe depression symptoms strongly dislike drug\n",
            "\n",
            "5. chatgpt giving wrong answers maximum questionsmost answers wrong asked questionsbut said know latest update subjectinfact latest version chatgpt devicestill respondingafter uninstalling app installing againeven logging help please help mei need app much study\n",
            "\n",
            "6. lethargic time able function sedative effects\n",
            "\n",
            "7. many antidepressants crazy stopped taking everything six months hospitolized got sick constant med changes symptomsi good however self medicating drinking stopped drinking depression still decided get back something went effexor xr ml sick first weeks didnt take full stomach eat even dont feel like itnow couple weeks later memory getting terrible feel blah dont laugh dont cry noticed sexual side affects well thrilled give one week dont know tiresomethe constant question mind whether think normal days good luck think trouble getting go inpatient hospitol monitoredoh noticed vision getting worse never linked med till thanks posts read read less\n",
            "\n",
            "8. noticeable difference listlessnessdisinterest\n",
            "\n",
            "\n",
            "Showing 8 sample review(s) for Rating 3:\n",
            "\n",
            "1. pretty good visit arrived couple days labor day long weekend lots spare rooms floor like penthouseexpensive thoughsmall bathroom sink actually outside room weirdfree internetok service ok breakfast average location average cleanness\n",
            "\n",
            "2. even premium version quite slow basic queries tasks regularly blocked gpt minutes saying hit limit disappointing poor value\n",
            "\n",
            "3. first medication effect appetite horse notice hungry usually little energy havent lost weight yet ive taking medication week half going go back prozac mg bc felt lot energetic actually lost pounds much happier prozac\n",
            "\n",
            "4. okay impressed hotel nicebut night suite nicer suite chopped useable bathtub old fashioned hard ofno room staff niceac lousy night chartres hotel bacco restaurant door good cent martinis lunch elevators working night morning great breakfast place street la taut good location worth price\n",
            "\n",
            "5. audio issue\n",
            "\n",
            "6. follow original review taking month increased mg bad side effects however anxiety becomefor lack better wordsharper go sleep trouble focusing also rapid speech feeling speedy day talked doctor recommended going dose iam willing iam going wean first worked great symptoms got worse careful deciding taking thisread read less\n",
            "\n",
            "7. effexor xr years trying come second time first try unsuccessful obviously withdrawl symptoms overwhelming get back medication slowly weaned five week period gave one month im trying taking mgs day dont feel much good bad wish know years ago iknow\n",
            "\n",
            "8. adequate quirky hotel stayed twice sky court attend nfl pro bowl february enjoyed stays room rates reasonable waikiki desk staff concierge helpful friendly couple quirky issues slow elevators nearly bad previously chronicled walls occasional transgender prostitutes ply trade lobby area asked rooms lowest floor possible mitigate elevator concern issue hawaii usually nt stay room heard people activities adjoining rooms minor inconvenience helped foam earplugs nt rental car visit pool area visit ca nt help tgifridays hotel lobby fine happy hour drinks appetizers main entrees disappointing nt waste dining dollars excellent options nearby personal favorites duke waikiki kalakaua sky court favorably located near major city bus lines worldclass shopping venues aloha\n",
            "\n",
            "\n",
            "Showing 8 sample review(s) for Rating 4:\n",
            "\n",
            "1. ai language model chatgpt strives offer helpful relevant responses based information january however important acknowledge may developments changes beyond date could affect accuracy relevance responses chatgpt aims provide valuable assistance users exercise critical thinking consult uptodate sources current information\n",
            "\n",
            "2. mcq answer accurate\n",
            "\n",
            "3. ive taking medication years helped little obsessivecompulsive anxietyi satisfied paxilmg trazadone take sleep\n",
            "\n",
            "4. engaging basic requests good aint dumb im iq think tested complex crime threats type questions\n",
            "\n",
            "5. overall satisfied drug crazy dreams first months occasionally period night sweats dry mouth commoncontinuing issues get headaches skip dose buzz taking postskipped dose despite side effects medication really lifesaver\n",
            "\n",
            "6. failing multiple meds depression hospitalized suicide attempt risperidone combination lexapro helped dramatically gave hope yes ive gained weight im developing strategy controlling appetite\n",
            "\n",
            "7. doubt amazing app students small request u students want answers long questions cant write becuz less time exam preparation plzz add picture sensor voice sensor taking pictures upload long questions get answers seconds\n",
            "\n",
            "8. robust costumizable itsm solution adaptative organizations\n",
            "\n",
            "\n",
            "Showing 8 sample review(s) for Rating 5:\n",
            "\n",
            "1. taking zoloft yrswhen felt like stopped workingmy dr put cymbalta last monthsand onnly weeki immediatly began feel betterits great medication highly reccomend depressionanxiety suffer severly\n",
            "\n",
            "2. ᴠᴇʀʏ ʙᴇsᴛ ᴀᴘᴘʟɪᴄᴀᴛɪᴏɴ ᴛᴀʟᴋɪɴɢ ᴍᴇ ᴊᴜsᴛ ʟɪᴋᴇ ᴀ ғʀɪᴇɴᴅ ᴄʟᴇᴀʀ ᴀɴsᴡᴇʀ ᴘʀᴏᴠɪᴅᴇ ᴡɪᴛʜᴏᴜᴛ ᴀɴʏ ʟɪɴᴋɪɴɢ ᴘʀᴏʙʟᴇᴍ ɢʀᴇᴀᴛ ᴀᴘᴘʟɪᴄᴀᴛɪᴏɴ ᴄᴏᴍᴘᴀʀᴇ ᴀs ɢᴏᴏɢʟᴇ\n",
            "\n",
            "3. awesome love using need writing essay question answer etc\n",
            "\n",
            "4. effective helping get good rest night fewer side effects doesnt break pocketbook like many othere meds ive taken yrs\n",
            "\n",
            "5. taken cymbalta many trial errors medications paxil celixa welbutrin found one weight gain also helps chronic lower back pain arthritis would recomend drug\n",
            "\n",
            "6. chatgpt truly lifesaver convenient use im phone respond time manner almost like live conversation highly recomend practice engi appreciate easy communicate chatgpt trust reliability information provides whether im seeking advice information engaging casual conversation chatgpt never disappoints highly recommended anyone looking reliable virtual assistant\n",
            "\n",
            "7. interesting reduced amount time spent research excellent needs improve aspects excel spreadsheet aside comfortable app\n",
            "\n",
            "8. works advertised stars im terrified\n",
            "\n"
          ]
        }
      ]
    },
    {
      "cell_type": "markdown",
      "source": [
        "LEMMATIZATION"
      ],
      "metadata": {
        "id": "RRGEeio3P3fw"
      }
    },
    {
      "cell_type": "code",
      "source": [
        "import nltk\n",
        "nltk.download('wordnet')\n",
        "nltk.download('omw-1.4')\n",
        "from nltk.stem import WordNetLemmatizer\n",
        "from nltk.tokenize import word_tokenize\n",
        "lemmatizer = WordNetLemmatizer()\n",
        "def lemmatize_text(text):\n",
        "    words = word_tokenize(text)\n",
        "    lemmatized = [lemmatizer.lemmatize(word) for word in words]\n",
        "    return ' '.join(lemmatized)\n",
        "df['review']=df['review'].apply(lemmatize_text)"
      ],
      "metadata": {
        "colab": {
          "base_uri": "https://localhost:8080/"
        },
        "id": "sxpCh-9XP3KS",
        "outputId": "86241106-2d07-4160-b5f6-87a0bcd411f7"
      },
      "execution_count": 9,
      "outputs": [
        {
          "output_type": "stream",
          "name": "stderr",
          "text": [
            "[nltk_data] Downloading package wordnet to /root/nltk_data...\n",
            "[nltk_data] Downloading package omw-1.4 to /root/nltk_data...\n"
          ]
        }
      ]
    },
    {
      "cell_type": "markdown",
      "source": [
        "SAMPLE REVIEWS"
      ],
      "metadata": {
        "id": "X4OzMsa9i6sd"
      }
    },
    {
      "cell_type": "code",
      "source": [
        "n = 8\n",
        "\n",
        "# Loop through ratings from 1 to 5\n",
        "for rating in range(1, 6):\n",
        "    # Filter reviews of the current rating\n",
        "    filtered_reviews = df[df['rating'] == rating]['review'].dropna()\n",
        "\n",
        "    # Sample 'n' reviews or all if fewer\n",
        "    sample_reviews = filtered_reviews.sample(n=min(n, len(filtered_reviews)), random_state=rating)\n",
        "\n",
        "    # Print the results\n",
        "    print(f\"\\nShowing {min(n, len(filtered_reviews))} sample review(s) for Rating {rating}:\\n\")\n",
        "    for i, review in enumerate(sample_reviews, 1):\n",
        "        print(f\"{i}. {review.strip()}\\n\")"
      ],
      "metadata": {
        "colab": {
          "base_uri": "https://localhost:8080/"
        },
        "id": "77sRu73VQz_M",
        "outputId": "86e17e40-da1b-47f6-a36f-41fe98d251f4"
      },
      "execution_count": 10,
      "outputs": [
        {
          "output_type": "stream",
          "name": "stdout",
          "text": [
            "\n",
            "Showing 8 sample review(s) for Rating 1:\n",
            "\n",
            "1. cant even login without chrome installed\n",
            "\n",
            "2. even paying monthly subscription chatgpt plus havent started support reach kindly check revert\n",
            "\n",
            "3. extreme usless app\n",
            "\n",
            "4. headachessweatinglose appetitelack sleep\n",
            "\n",
            "5. truly awful admit slightly sceptical arriving hotel city centre old took attempt room smoking booking specified nonsmoking ca nt guarantee non smoking room need medical certificate lot good telling room stuff therethe hotel woken thought nt sure leaving case belonging therevery poor tired run rude staff hey charge room nightavoid cost complete rip\n",
            "\n",
            "6. cesspool carribean booked trip apple vacation nt recommend travel advice resort construction going right resort building service desk waiter horrible supposed working food bland disgusting resident including wife ill eating food resort purposely overbooked given room purchased room rented supposed building paid order room paid pay extra beach beautiful ample sun\n",
            "\n",
            "7. beware really wish could give drug first life great didnt know better work living nightmare effexor missed dose even minute would get worst withdrawal symptom went trip week forgot effexor easily worst week entire life extremely bad brain zap bad diarrhea vomiting flu feeling along honestly felt like someone tazing leg horrible brain leg zap beyond sick spent majority vacation bathroom soon got home took missed dose started feel completely normal within year begged psychiatrist take withdrawal severe take ever run thisread read less\n",
            "\n",
            "8. medication caused horrible night terror every day taken much could remain asleep hour night night terror went away soon discontinued medicine\n",
            "\n",
            "\n",
            "Showing 8 sample review(s) for Rating 2:\n",
            "\n",
            "1. average best overpriced read review nt know stayed bed raf sag middle good thing jr suite thier bed resturant high priced chicken sandwich time hawaii fact time stayed ohau noisey lot large group meeting pool closed time carpet dirty foot sock got dirty whrn walked stay recommend hotel friend\n",
            "\n",
            "2. six\n",
            "\n",
            "3. mostly side effect loose stool diarea\n",
            "\n",
            "4. experienced weight gain severe depression symptom strongly dislike drug\n",
            "\n",
            "5. chatgpt giving wrong answer maximum questionsmost answer wrong asked questionsbut said know latest update subjectinfact latest version chatgpt devicestill respondingafter uninstalling app installing againeven logging help please help mei need app much study\n",
            "\n",
            "6. lethargic time able function sedative effect\n",
            "\n",
            "7. many antidepressant crazy stopped taking everything six month hospitolized got sick constant med change symptomsi good however self medicating drinking stopped drinking depression still decided get back something went effexor xr ml sick first week didnt take full stomach eat even dont feel like itnow couple week later memory getting terrible feel blah dont laugh dont cry noticed sexual side affect well thrilled give one week dont know tiresomethe constant question mind whether think normal day good luck think trouble getting go inpatient hospitol monitoredoh noticed vision getting worse never linked med till thanks post read read less\n",
            "\n",
            "8. noticeable difference listlessnessdisinterest\n",
            "\n",
            "\n",
            "Showing 8 sample review(s) for Rating 3:\n",
            "\n",
            "1. pretty good visit arrived couple day labor day long weekend lot spare room floor like penthouseexpensive thoughsmall bathroom sink actually outside room weirdfree internetok service ok breakfast average location average cleanness\n",
            "\n",
            "2. even premium version quite slow basic query task regularly blocked gpt minute saying hit limit disappointing poor value\n",
            "\n",
            "3. first medication effect appetite horse notice hungry usually little energy havent lost weight yet ive taking medication week half going go back prozac mg bc felt lot energetic actually lost pound much happier prozac\n",
            "\n",
            "4. okay impressed hotel nicebut night suite nicer suite chopped useable bathtub old fashioned hard ofno room staff niceac lousy night chartres hotel bacco restaurant door good cent martini lunch elevator working night morning great breakfast place street la taut good location worth price\n",
            "\n",
            "5. audio issue\n",
            "\n",
            "6. follow original review taking month increased mg bad side effect however anxiety becomefor lack better wordsharper go sleep trouble focusing also rapid speech feeling speedy day talked doctor recommended going dose iam willing iam going wean first worked great symptom got worse careful deciding taking thisread read less\n",
            "\n",
            "7. effexor xr year trying come second time first try unsuccessful obviously withdrawl symptom overwhelming get back medication slowly weaned five week period gave one month im trying taking mg day dont feel much good bad wish know year ago iknow\n",
            "\n",
            "8. adequate quirky hotel stayed twice sky court attend nfl pro bowl february enjoyed stay room rate reasonable waikiki desk staff concierge helpful friendly couple quirky issue slow elevator nearly bad previously chronicled wall occasional transgender prostitute ply trade lobby area asked room lowest floor possible mitigate elevator concern issue hawaii usually nt stay room heard people activity adjoining room minor inconvenience helped foam earplug nt rental car visit pool area visit ca nt help tgifridays hotel lobby fine happy hour drink appetizer main entree disappointing nt waste dining dollar excellent option nearby personal favorite duke waikiki kalakaua sky court favorably located near major city bus line worldclass shopping venue aloha\n",
            "\n",
            "\n",
            "Showing 8 sample review(s) for Rating 4:\n",
            "\n",
            "1. ai language model chatgpt strives offer helpful relevant response based information january however important acknowledge may development change beyond date could affect accuracy relevance response chatgpt aim provide valuable assistance user exercise critical thinking consult uptodate source current information\n",
            "\n",
            "2. mcq answer accurate\n",
            "\n",
            "3. ive taking medication year helped little obsessivecompulsive anxietyi satisfied paxilmg trazadone take sleep\n",
            "\n",
            "4. engaging basic request good aint dumb im iq think tested complex crime threat type question\n",
            "\n",
            "5. overall satisfied drug crazy dream first month occasionally period night sweat dry mouth commoncontinuing issue get headache skip dose buzz taking postskipped dose despite side effect medication really lifesaver\n",
            "\n",
            "6. failing multiple med depression hospitalized suicide attempt risperidone combination lexapro helped dramatically gave hope yes ive gained weight im developing strategy controlling appetite\n",
            "\n",
            "7. doubt amazing app student small request u student want answer long question cant write becuz less time exam preparation plzz add picture sensor voice sensor taking picture upload long question get answer second\n",
            "\n",
            "8. robust costumizable itsm solution adaptative organization\n",
            "\n",
            "\n",
            "Showing 8 sample review(s) for Rating 5:\n",
            "\n",
            "1. taking zoloft yrswhen felt like stopped workingmy dr put cymbalta last monthsand onnly weeki immediatly began feel betterits great medication highly reccomend depressionanxiety suffer severly\n",
            "\n",
            "2. ᴠᴇʀʏ ʙᴇsᴛ ᴀᴘᴘʟɪᴄᴀᴛɪᴏɴ ᴛᴀʟᴋɪɴɢ ᴍᴇ ᴊᴜsᴛ ʟɪᴋᴇ ᴀ ғʀɪᴇɴᴅ ᴄʟᴇᴀʀ ᴀɴsᴡᴇʀ ᴘʀᴏᴠɪᴅᴇ ᴡɪᴛʜᴏᴜᴛ ᴀɴʏ ʟɪɴᴋɪɴɢ ᴘʀᴏʙʟᴇᴍ ɢʀᴇᴀᴛ ᴀᴘᴘʟɪᴄᴀᴛɪᴏɴ ᴄᴏᴍᴘᴀʀᴇ ᴀs ɢᴏᴏɢʟᴇ\n",
            "\n",
            "3. awesome love using need writing essay question answer etc\n",
            "\n",
            "4. effective helping get good rest night fewer side effect doesnt break pocketbook like many othere med ive taken yr\n",
            "\n",
            "5. taken cymbalta many trial error medication paxil celixa welbutrin found one weight gain also help chronic lower back pain arthritis would recomend drug\n",
            "\n",
            "6. chatgpt truly lifesaver convenient use im phone respond time manner almost like live conversation highly recomend practice engi appreciate easy communicate chatgpt trust reliability information provides whether im seeking advice information engaging casual conversation chatgpt never disappoints highly recommended anyone looking reliable virtual assistant\n",
            "\n",
            "7. interesting reduced amount time spent research excellent need improve aspect excel spreadsheet aside comfortable app\n",
            "\n",
            "8. work advertised star im terrified\n",
            "\n"
          ]
        }
      ]
    },
    {
      "cell_type": "code",
      "source": [
        "short_counts = df[df['review'].apply(lambda x: len(str(x).split()) < 3)] \\\n",
        "                .groupby('rating').size().reset_index(name='count_less_than_3_words')\n",
        "\n",
        "print(short_counts)\n",
        "long_counts = df[df['review'].apply(lambda x: len(str(x).split()) > 50)] \\\n",
        "               .groupby('rating').size().reset_index(name='count_long_reviews')\n",
        "\n",
        "print(long_counts)"
      ],
      "metadata": {
        "colab": {
          "base_uri": "https://localhost:8080/"
        },
        "id": "qqWqr93YR0bB",
        "outputId": "27a47d5c-a930-4b5d-9697-1a517096f28d"
      },
      "execution_count": 11,
      "outputs": [
        {
          "output_type": "stream",
          "name": "stdout",
          "text": [
            "   rating  count_less_than_3_words\n",
            "0       1                     1842\n",
            "1       2                     1709\n",
            "2       3                     3117\n",
            "3       4                     3858\n",
            "4       5                     8547\n",
            "   rating  count_long_reviews\n",
            "0       1                2677\n",
            "1       2                6026\n",
            "2       3                6842\n",
            "3       4                8705\n",
            "4       5                4461\n"
          ]
        }
      ]
    },
    {
      "cell_type": "markdown",
      "source": [
        "TRAIN_TEST_SPLIT"
      ],
      "metadata": {
        "id": "FIYrP1P0hvzH"
      }
    },
    {
      "cell_type": "code",
      "source": [
        "from sklearn.model_selection import train_test_split\n",
        "\n",
        "# Suppose 'df' has columns: 'review' and 'rating'\n",
        "\n",
        "# Features (X) and labels (y)\n",
        "X = df['review']\n",
        "y = df['rating']\n",
        "\n",
        "# Perform stratified split\n",
        "X_train, X_test, y_train, y_test = train_test_split(\n",
        "    X, y,\n",
        "    test_size=0.2,\n",
        "    stratify=y,\n",
        "    random_state=42\n",
        ")\n",
        "\n",
        "# Optionally combine X and y back into DataFrames\n",
        "train_df = pd.DataFrame({'review': X_train, 'rating': y_train})\n",
        "test_df = pd.DataFrame({'review': X_test, 'rating': y_test})"
      ],
      "metadata": {
        "id": "YwOFDCMniER_"
      },
      "execution_count": 16,
      "outputs": []
    },
    {
      "cell_type": "markdown",
      "source": [
        "TF-IDF"
      ],
      "metadata": {
        "id": "7JfWfCIeiH_8"
      }
    },
    {
      "cell_type": "code",
      "source": [
        "from sklearn.feature_extraction.text import TfidfVectorizer#tf=term frequency=1  how many times-idf=inverse document\n",
        "\n",
        "vectorizer = TfidfVectorizer(max_features=5000) # Removed stop_words='english' as stopwords were already removed\n",
        "X_train_tfidf = vectorizer.fit_transform(X_train)\n",
        "X_test_tfidf = vectorizer.transform(X_test)"
      ],
      "metadata": {
        "id": "vsaExuKbiQWV"
      },
      "execution_count": 17,
      "outputs": []
    },
    {
      "cell_type": "code",
      "source": [
        "df.to_csv('IMBALANCED_TRAIN_TEST.csv',index=False)"
      ],
      "metadata": {
        "id": "FLcHsCJ9iWNs"
      },
      "execution_count": 20,
      "outputs": []
    }
  ]
}