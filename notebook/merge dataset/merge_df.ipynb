{
  "nbformat": 4,
  "nbformat_minor": 0,
  "metadata": {
    "colab": {
      "provenance": []
    },
    "kernelspec": {
      "name": "python3",
      "display_name": "Python 3"
    },
    "language_info": {
      "name": "python"
    }
  },
  "cells": [
    {
      "cell_type": "code",
      "execution_count": 1,
      "metadata": {
        "id": "TsdiYaAG7aly"
      },
      "outputs": [],
      "source": [
        "import pandas as pd\n",
        "df1=pd.read_csv('/content/clean_amazon.csv')\n",
        "df2=pd.read_csv('/content/clean_chatgpt.csv')\n",
        "df3=pd.read_csv('/content/clean_clean.csv')\n",
        "df4=pd.read_csv('/content/clean_drug.csv')\n",
        "df5=pd.read_csv('/content/clean_game.csv')\n",
        "df6=pd.read_csv('/content/clean_musical.csv')\n",
        "df7=pd.read_csv('/content/clean_ticket_system.csv')\n",
        "df8=pd.read_csv('/content/clean_tripadvisor (1).csv')\n",
        "df9=pd.read_csv('/content/clean_tripadvisor_hotel.csv')"
      ]
    },
    {
      "cell_type": "code",
      "source": [
        "print('df1',df1.columns)\n",
        "print('df2',df2.columns)\n",
        "print('df3',df3.columns)\n",
        "print('df4',df4.columns)\n",
        "print('df5',df5.columns)\n",
        "print('df6',df6.columns)\n",
        "print('df7',df7.columns)\n",
        "print('df8',df8.columns)\n",
        "print('df9',df9.columns)"
      ],
      "metadata": {
        "colab": {
          "base_uri": "https://localhost:8080/"
        },
        "id": "twBcH9e99xy4",
        "outputId": "35f610af-df26-4ec3-be81-84334dae38d3"
      },
      "execution_count": 14,
      "outputs": [
        {
          "output_type": "stream",
          "name": "stdout",
          "text": [
            "df1 Index(['review', 'rating'], dtype='object')\n",
            "df2 Index(['review', 'rating'], dtype='object')\n",
            "df3 Index(['review', 'rating'], dtype='object')\n",
            "df4 Index(['review', 'rating'], dtype='object')\n",
            "df5 Index(['review', 'rating'], dtype='object')\n",
            "df6 Index(['review', 'rating'], dtype='object')\n",
            "df7 Index(['review', 'rating'], dtype='object')\n",
            "df8 Index(['review', 'rating'], dtype='object')\n",
            "df9 Index(['review', 'rating'], dtype='object')\n"
          ]
        }
      ]
    },
    {
      "cell_type": "code",
      "source": [
        "df5.rename(columns={'REVIEW':'review'},inplace=True)\n",
        "df9.rename(columns={'Review':'review','Rating':'rating'},inplace=True)"
      ],
      "metadata": {
        "id": "lfmRL_fH-duP"
      },
      "execution_count": 4,
      "outputs": []
    },
    {
      "cell_type": "markdown",
      "source": [
        "SWAPPING COLUMNS"
      ],
      "metadata": {
        "id": "FEwXTso7BEYH"
      }
    },
    {
      "cell_type": "code",
      "source": [
        "cols=list(df1.columns)\n",
        "i,j=cols.index('review'),cols.index('rating')\n",
        "cols[i],cols[j]=cols[j],cols[i]\n",
        "df1=df1[cols]\n"
      ],
      "metadata": {
        "id": "rDW0CdD-_iDy"
      },
      "execution_count": 7,
      "outputs": []
    },
    {
      "cell_type": "code",
      "source": [
        "cols=list(df3.columns)\n",
        "i,j=cols.index('review'),cols.index('rating')\n",
        "cols[i],cols[j]=cols[j],cols[i]\n",
        "df3=df3[cols]"
      ],
      "metadata": {
        "id": "loz-HJHZBl0F"
      },
      "execution_count": 9,
      "outputs": []
    },
    {
      "cell_type": "code",
      "source": [
        "cols=list(df4.columns)\n",
        "i,j=cols.index('review'),cols.index('rating')\n",
        "cols[i],cols[j]=cols[j],cols[i]\n",
        "df4=df4[cols]"
      ],
      "metadata": {
        "id": "s5VxVXqKBuIA"
      },
      "execution_count": 11,
      "outputs": []
    },
    {
      "cell_type": "code",
      "source": [
        "cols=list(df6.columns)\n",
        "i,j=cols.index('review'),cols.index('rating')\n",
        "cols[i],cols[j]=cols[j],cols[i]\n",
        "df6=df6[cols]"
      ],
      "metadata": {
        "id": "3rH1vpSmB1ul"
      },
      "execution_count": 13,
      "outputs": []
    },
    {
      "cell_type": "markdown",
      "source": [
        "MERGING"
      ],
      "metadata": {
        "id": "_rd4etSrB9Po"
      }
    },
    {
      "cell_type": "code",
      "source": [
        "merge_df=pd.concat([df1,df2,df3,df4,df5,df6,df7,df8,df9],ignore_index=True)"
      ],
      "metadata": {
        "id": "2mVJtvyaB8Rz"
      },
      "execution_count": 15,
      "outputs": []
    },
    {
      "cell_type": "code",
      "source": [
        "merge_df.shape"
      ],
      "metadata": {
        "colab": {
          "base_uri": "https://localhost:8080/"
        },
        "id": "x91I8ZzeCT2B",
        "outputId": "2a4560a3-95dd-4bcb-8236-7e08d9b33b47"
      },
      "execution_count": 17,
      "outputs": [
        {
          "output_type": "execute_result",
          "data": {
            "text/plain": [
              "(185849, 2)"
            ]
          },
          "metadata": {},
          "execution_count": 17
        }
      ]
    },
    {
      "cell_type": "markdown",
      "source": [
        "VALUE COUNT"
      ],
      "metadata": {
        "id": "qOPqXS8fCqSE"
      }
    },
    {
      "cell_type": "code",
      "source": [
        "merge_df.value_counts('rating')"
      ],
      "metadata": {
        "colab": {
          "base_uri": "https://localhost:8080/",
          "height": 272
        },
        "id": "EQMCXJyZCe3o",
        "outputId": "1f076eeb-8d3c-46b1-c2fa-a30fc79e6946"
      },
      "execution_count": 18,
      "outputs": [
        {
          "output_type": "execute_result",
          "data": {
            "text/plain": [
              "rating\n",
              "5    103689\n",
              "4     36957\n",
              "3     17372\n",
              "1     16215\n",
              "2     11616\n",
              "Name: count, dtype: int64"
            ],
            "text/html": [
              "<div>\n",
              "<style scoped>\n",
              "    .dataframe tbody tr th:only-of-type {\n",
              "        vertical-align: middle;\n",
              "    }\n",
              "\n",
              "    .dataframe tbody tr th {\n",
              "        vertical-align: top;\n",
              "    }\n",
              "\n",
              "    .dataframe thead th {\n",
              "        text-align: right;\n",
              "    }\n",
              "</style>\n",
              "<table border=\"1\" class=\"dataframe\">\n",
              "  <thead>\n",
              "    <tr style=\"text-align: right;\">\n",
              "      <th></th>\n",
              "      <th>count</th>\n",
              "    </tr>\n",
              "    <tr>\n",
              "      <th>rating</th>\n",
              "      <th></th>\n",
              "    </tr>\n",
              "  </thead>\n",
              "  <tbody>\n",
              "    <tr>\n",
              "      <th>5</th>\n",
              "      <td>103689</td>\n",
              "    </tr>\n",
              "    <tr>\n",
              "      <th>4</th>\n",
              "      <td>36957</td>\n",
              "    </tr>\n",
              "    <tr>\n",
              "      <th>3</th>\n",
              "      <td>17372</td>\n",
              "    </tr>\n",
              "    <tr>\n",
              "      <th>1</th>\n",
              "      <td>16215</td>\n",
              "    </tr>\n",
              "    <tr>\n",
              "      <th>2</th>\n",
              "      <td>11616</td>\n",
              "    </tr>\n",
              "  </tbody>\n",
              "</table>\n",
              "</div><br><label><b>dtype:</b> int64</label>"
            ]
          },
          "metadata": {},
          "execution_count": 18
        }
      ]
    },
    {
      "cell_type": "code",
      "source": [
        "merge_df.to_csv('merge_df.csv',index=False)"
      ],
      "metadata": {
        "id": "QsxNaZ5CCwST"
      },
      "execution_count": 19,
      "outputs": []
    }
  ]
}